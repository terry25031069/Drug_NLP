{
 "cells": [
  {
   "cell_type": "code",
   "execution_count": 1,
   "metadata": {},
   "outputs": [],
   "source": [
    "import os, re, shutil, json, time\n",
    "import jieba, numpy\n",
    "import string, gensim\n",
    "import threading\n",
    "import pandas as pd\n",
    "import numpy as np\n",
    "from gensim.models.doc2vec import Doc2Vec\n",
    "from collections import Counter\n",
    "from tqdm import tqdm"
   ]
  },
  {
   "cell_type": "code",
   "execution_count": 2,
   "metadata": {},
   "outputs": [],
   "source": [
    "def extract_jfull(filename: str):\n",
    "    with open(os.path.join(dirpath + '/drug_case', filename), \"r\", encoding = 'UTF-8') as f:\n",
    "        data = json.load(f)['JFULL']\n",
    "        data = data.replace(' ', '').replace('　', '')\n",
    "    target0 = data.find('主文\\r\\n')\n",
    "    # 如果案字帶有秩的，代表為社會秩序維護法的案子，並不在我們的管理範圍內\n",
    "    if \"秩\" in filename: \n",
    "        return \"\"\n",
    "    \n",
    "    # 如果 JFULL 找不到主文，那就代表是 pdf 檔案\n",
    "    # 暫定不處置\n",
    "    if target0 != -1:\n",
    "        target1 = []\n",
    "        if data.find('事實及理由\\r\\n') != -1:\n",
    "            target1.append(data.find('事實及理由\\r\\n', target0))\n",
    "        if data.find('犯罪事實\\r\\n') != -1:\n",
    "            target1.append(data.find('犯罪事實\\r\\n', target0))\n",
    "        if data.find('理由\\r\\n') != -1:\n",
    "            target1.append(data.find('理由\\r\\n', target0))\n",
    "        if data.find('事實\\r\\n') != -1:\n",
    "            target1.append(data.find('事實\\r\\n', target0))\n",
    "        if data.find('中華民國') != -1:\n",
    "            target1.append(data.find('中華民國', target0))\n",
    "        target1 = min(target1)\n",
    "        target2 = data.find('書記官')\n",
    "        \n",
    "        data = data[target1: target2].replace('\\r\\n', '')\n",
    "        #data = data[target2: data.find('附件', target2)].replace('\\r\\n', '')\n",
    "        data = data.replace(' ', '')\n",
    "        return data\n",
    "    else:\n",
    "        return \"\""
   ]
  },
  {
   "cell_type": "code",
   "execution_count": 3,
   "metadata": {},
   "outputs": [],
   "source": [
    "def str_preprocessing(name, result_str_seq):\n",
    "    return_list = []\n",
    "    location1, location2 = 0, 0\n",
    "    result_lawcode = ''\n",
    "    \n",
    "    #若原來字串第一個為第X條第X項，則截取第X條的部分\n",
    "    if len(result_str_seq[0]) > 5:\n",
    "        location1 = result_str_seq[0].find('第')\n",
    "        location2 = result_str_seq[0].find('第', location1)\n",
    "        # print(result_str_seq[0][location1: location2])\n",
    "        result_lawcode = result_str_seq[0][location1: location2]\n",
    "        \n",
    "    for idx in range(len(result_str_seq)):\n",
    "        # 如果切割出來的字串長度超過 7 就砍到剩下 7 \n",
    "        # 之後看到項就截取到項，否則就看有沒有條\n",
    "        result_str = result_str_seq[idx]\n",
    "        if len(result_str) > 7: result_str = result_str[:7]\n",
    "        if \"項\" in result_str: result_str = result_str[: result_str.find('項') + 1]\n",
    "        else: result_str = result_str[: result_str.find('條') + 1]\n",
    "\n",
    "        # TODO: 單純「第X項」的沒有處理好\n",
    "        if len(result_str) > 5 and result_str[0] == '第' and result_str[-1] == '項':\n",
    "            result_str = result_lawcode + result_str\n",
    "        for j in [\"第\" + str(k) + \"條\" for k in range(4, 18)]:\n",
    "            if j in result_str:\n",
    "                return_list.append(result_str)\n",
    "    #print(i, return_list)\n",
    "    return return_list"
   ]
  },
  {
   "cell_type": "code",
   "execution_count": 4,
   "metadata": {
    "scrolled": true
   },
   "outputs": [
    {
     "name": "stderr",
     "output_type": "stream",
     "text": [
      "100%|███████████████████████████████████████████████████████████████████████████| 23112/23112 [01:13<00:00, 313.54it/s]\n"
     ]
    }
   ],
   "source": [
    "desktop = os.environ['USERPROFILE'] + '/Desktop'\n",
    "dirpath = desktop + '/Drug_NLP'\n",
    "result_dict = {}\n",
    "\n",
    "model = Doc2Vec.load(dirpath + \"/drug_model.bin\")\n",
    "caselist = open(dirpath + '/label.txt', 'r', encoding = 'utf-8').readlines()\n",
    "label = {}\n",
    "train, train_label = [], []\n",
    "vector = ['第4條第1項', '第4條第2項', '第4條第3項', '第4條第4項', '第4條第5項', '第4條第6項', '第5條第1項', '第5條第2項', '第5條第3項', '第6條第2項', '第6條第3項', '第6條第4項', '第6條第5項', '第8條第1項', '第8條第2項', '第8條第3項', '第8條第4項', '第8條第5項', '第8條第6項', '第9條第1項', '第9條第2項', '第9條第3項', '第10條第1項', '第10條第2項', '第11條第1項', '第11條第2項', '第11條第3項', '第11條第4項', '第11條第5項', '第11條第6項', '第11條第7項', '第12條第2項', '第13條第2項', '第14條第2項', '第14條第3項', '第14條第4項', '第17條第1項', '第17條第2項', '第17條第3項']\n",
    "\n",
    "\n",
    "for i in tqdm(caselist):\n",
    "    filename, sencnt = i.split()\n",
    "    label[filename] = sencnt\n",
    "    text = extract_jfull(filename)\n",
    "    text = text.replace('第1、2項', '第1項、第2項').replace('第3、4項', '第3項、第4項') \\\n",
    "            .replace('條條', '條').replace('第第', '第').replace('２', '2')\n",
    "    for j in [\"條\" + str(k) + \"項\" for k in range(7)]:\n",
    "        text = text.replace(j, j[0] + \"第\" + j[1:])\n",
    "    textloc2 = 0\n",
    "    all_result_str_seq = []\n",
    "\n",
    "    while 1:\n",
    "        textloc1 = text.find('毒品危害防制條例第', textloc2)\n",
    "        if textloc1 == -1: break\n",
    "        tmp = text[textloc1: textloc1 + 30]\n",
    "        if \"刑法\" in tmp: tmp = tmp[: tmp.find('刑法')]\n",
    "        textloc2 = max(tmp.rfind('項'), (tmp.rfind('項') == -1) * tmp.rfind('條'))\n",
    "        if textloc2 == -1: continue\n",
    "        result_str_seq = text[textloc1 + 8: textloc1 + textloc2 + 1].split('、')\n",
    "        \n",
    "        result_str_seq = str_preprocessing(i, result_str_seq)\n",
    "        all_result_str_seq.extend(result_str_seq)\n",
    "        all_result_str_seq = list(set(all_result_str_seq) & set(vector))\n",
    "        \n",
    "        text_vector = [0] * 39\n",
    "        for result_str in all_result_str_seq:\n",
    "            text_vector[vector.index(result_str)] += 1\n",
    "        textloc2 = textloc1 + textloc2 + 1\n",
    "    if len(all_result_str_seq) == 0: continue\n",
    "    else: \n",
    "        train.append(text_vector)\n",
    "        train_label.append(sencnt)\n",
    "    #print(filename, sencnt, text_vector)\n"
   ]
  },
  {
   "cell_type": "markdown",
   "metadata": {
    "scrolled": false
   },
   "source": [
    "# Sort the vector strings\n",
    "\n",
    "```python\n",
    "sorted_result_dict = sorted(list(result_dict), key = result_dict.get, reverse = 1)\n",
    "vector = ['第10條第2項', '第17條第2項', '第10條第1項', '第17條第1項', '第4條第2項', '第11條第2項', '第4條第1項', '第4條第3項', '第8條第2項', '第4條第6項', '第11條第1項', '第11條第5項', '第8條第6項', '第11條第4項', '第8條第1項', '第11條第3項', '第8條第3項', '第9條第1項', '第5條第2項', '第12條第2項', '第4條第4項', '第5條第3項', '第17條第3項', '第14條第4項', '第9條第3項', '第5條第1項', '第13條第2項', '第11條第6項', '第6條第3項', '第6條第2項', '第8條第5項', '第8條第4項', '第4條第5項', '第9條第2項', '第14條第2項', '第14條第3項', '第6條第5項', '第6條第4項', '第11條第7項']\n",
    "print(len(vector))\n",
    "for i in sorted_result_dict:\n",
    "    if len(re.findall(r'\\d+', i)) == 2 and \"項\" in i and \"地\" not in i:\n",
    "        vector.append(i)\n",
    "vector = sorted(vector, key = lambda x: list(map(int, re.findall(r'\\d+', x))))\n",
    "```"
   ]
  },
  {
   "cell_type": "code",
   "execution_count": 5,
   "metadata": {},
   "outputs": [
    {
     "name": "stdout",
     "output_type": "stream",
     "text": [
      "21991 21991\n"
     ]
    }
   ],
   "source": [
    "print(len(train), len(train_label))"
   ]
  },
  {
   "cell_type": "code",
   "execution_count": 6,
   "metadata": {},
   "outputs": [
    {
     "name": "stdout",
     "output_type": "stream",
     "text": [
      "(21991, 39) (21991,)\n"
     ]
    }
   ],
   "source": [
    "train = np.array(train)\n",
    "train_label = np.array(train_label)\n",
    "print(train.shape, train_label.shape)"
   ]
  },
  {
   "cell_type": "markdown",
   "metadata": {
    "id": "us5XW_x6udZQ"
   },
   "source": [
    "## Create Dataset"
   ]
  },
  {
   "cell_type": "code",
   "execution_count": 7,
   "metadata": {
    "id": "Fjf5EcmJtf4e"
   },
   "outputs": [],
   "source": [
    "import torch\n",
    "from torch.utils.data import Dataset\n",
    "\n",
    "class DrugDataset(Dataset):\n",
    "    def __init__(self, X, y=None):\n",
    "        self.data = torch.from_numpy(X).float()\n",
    "        if y is not None:\n",
    "            y = y.astype(np.float)\n",
    "            self.label = torch.FloatTensor(y)\n",
    "        else:\n",
    "            self.label = None\n",
    "\n",
    "    def __getitem__(self, idx):\n",
    "        if self.label is not None:\n",
    "            return self.data[idx], self.label[idx]\n",
    "        else:\n",
    "            return self.data[idx]\n",
    "\n",
    "    def __len__(self):\n",
    "        return len(self.data)"
   ]
  },
  {
   "cell_type": "markdown",
   "metadata": {
    "id": "otIC6WhGeh9v"
   },
   "source": [
    "Split the labeled data into a training set and a validation set, you can modify the variable `VAL_RATIO` to change the ratio of validation data."
   ]
  },
  {
   "cell_type": "code",
   "execution_count": 8,
   "metadata": {
    "colab": {
     "base_uri": "https://localhost:8080/"
    },
    "id": "sYqi_lAuvC59",
    "outputId": "4507dc52-3083-446c-fa1a-bba22073af89"
   },
   "outputs": [
    {
     "name": "stdout",
     "output_type": "stream",
     "text": [
      "Size of training set: (19791, 39)\n",
      "Size of validation set: (2200, 39)\n"
     ]
    }
   ],
   "source": [
    "VAL_RATIO = 0.1\n",
    "\n",
    "percent = int(train.shape[0] * (1 - VAL_RATIO))\n",
    "train_x, train_y, val_x, val_y = train[:percent], train_label[:percent], train[percent:], train_label[percent:]\n",
    "print('Size of training set: {}'.format(train_x.shape))\n",
    "print('Size of validation set: {}'.format(val_x.shape))"
   ]
  },
  {
   "cell_type": "markdown",
   "metadata": {
    "id": "nbCfclUIgMTX"
   },
   "source": [
    "Create a data loader from the dataset, feel free to tweak the variable `BATCH_SIZE` here."
   ]
  },
  {
   "cell_type": "code",
   "execution_count": 9,
   "metadata": {
    "colab": {
     "base_uri": "https://localhost:8080/"
    },
    "id": "RUCbQvqJurYc",
    "outputId": "4ed55f36-131b-4aed-e171-29a936bed9de"
   },
   "outputs": [
    {
     "name": "stderr",
     "output_type": "stream",
     "text": [
      "C:\\Users\\terry\\AppData\\Local\\Temp/ipykernel_2296/604575324.py:8: DeprecationWarning: `np.float` is a deprecated alias for the builtin `float`. To silence this warning, use `float` by itself. Doing this will not modify any behavior and is safe. If you specifically wanted the numpy scalar type, use `np.float64` here.\n",
      "Deprecated in NumPy 1.20; for more details and guidance: https://numpy.org/devdocs/release/1.20.0-notes.html#deprecations\n",
      "  y = y.astype(np.float)\n"
     ]
    }
   ],
   "source": [
    "BATCH_SIZE = 256\n",
    "\n",
    "from torch.utils.data import DataLoader\n",
    "\n",
    "train_set = DrugDataset(train_x, train_y)\n",
    "val_set = DrugDataset(val_x, val_y)\n",
    "train_loader = DataLoader(train_set, batch_size=BATCH_SIZE, shuffle=True) #only shuffle the training data\n",
    "val_loader = DataLoader(val_set, batch_size=BATCH_SIZE, shuffle=False)"
   ]
  },
  {
   "cell_type": "markdown",
   "metadata": {
    "id": "_SY7X0lUgb50"
   },
   "source": [
    "Cleanup the unneeded variables to save memory.<br>\n",
    "\n",
    "**notes: if you need to use these variables later, then you may remove this block or clean up unneeded variables later<br>the data size is quite huge, so be aware of memory usage in colab**"
   ]
  },
  {
   "cell_type": "markdown",
   "metadata": {
    "id": "IRqKNvNZwe3V"
   },
   "source": [
    "## Create Model"
   ]
  },
  {
   "cell_type": "markdown",
   "metadata": {
    "id": "FYr1ng5fh9pA"
   },
   "source": [
    "Define model architecture, you are encouraged to change and experiment with the model architecture."
   ]
  },
  {
   "cell_type": "code",
   "execution_count": 10,
   "metadata": {
    "id": "lbZrwT6Ny0XL"
   },
   "outputs": [],
   "source": [
    "import torch as t\n",
    "import torch.nn as nn\n",
    "\n",
    "class NN(nn.Module):\n",
    "    ''' A simple fully-connected deep neural network '''\n",
    "    def __init__(self, input_dim):\n",
    "        super(NN, self).__init__()\n",
    "\n",
    "        self.net = nn.Sequential(\n",
    "            nn.BatchNorm1d(input_dim),\n",
    "            nn.Linear(input_dim, 1024),\n",
    "            nn.BatchNorm1d(1024),\n",
    "            nn.ReLU(),\n",
    "            nn.Linear(1024, 1024),\n",
    "            nn.BatchNorm1d(1024),\n",
    "            nn.ReLU(),\n",
    "            nn.Linear(1024, 1),\n",
    "        )\n",
    "        \n",
    "    def forward(self, x):\n",
    "        ''' Given input of size (batch_size x input_dim), compute output of the network '''\n",
    "        return self.net(x)"
   ]
  },
  {
   "cell_type": "markdown",
   "metadata": {
    "id": "VRYciXZvPbYh"
   },
   "source": [
    "## Training"
   ]
  },
  {
   "cell_type": "code",
   "execution_count": 11,
   "metadata": {
    "id": "y114Vmm3Ja6o"
   },
   "outputs": [
    {
     "name": "stdout",
     "output_type": "stream",
     "text": [
      "cuda\n"
     ]
    }
   ],
   "source": [
    "#check device\n",
    "def get_device():\n",
    "    return 'cuda' if torch.cuda.is_available() else 'cpu'\n",
    "device = get_device()\n",
    "print(device)"
   ]
  },
  {
   "cell_type": "markdown",
   "metadata": {
    "id": "KbBcBXkSp6RA"
   },
   "source": [
    "Feel free to change the training parameters here."
   ]
  },
  {
   "cell_type": "code",
   "execution_count": 12,
   "metadata": {
    "colab": {
     "base_uri": "https://localhost:8080/",
     "height": 375
    },
    "id": "QTp3ZXg1yO9Y",
    "outputId": "ff6221ce-72b8-4b2a-8872-f52a13c49752",
    "scrolled": true
   },
   "outputs": [
    {
     "name": "stderr",
     "output_type": "stream",
     "text": [
      "100%|██████████████████████████████████████████████████████████████████████████████████| 78/78 [00:00<00:00, 86.80it/s]\n",
      "100%|███████████████████████████████████████████████████████████████████████████████████| 9/9 [00:00<00:00, 599.43it/s]\n"
     ]
    },
    {
     "name": "stdout",
     "output_type": "stream",
     "text": [
      "best loss updated!\n",
      "844.1831171247694 1000.0\n",
      "[ Train | 001/100 ] loss = 400.97827\n",
      "[ Valid | 001/100 ] loss = 844.18312\n"
     ]
    },
    {
     "name": "stderr",
     "output_type": "stream",
     "text": [
      "100%|█████████████████████████████████████████████████████████████████████████████████| 78/78 [00:00<00:00, 193.02it/s]\n",
      "100%|███████████████████████████████████████████████████████████████████████████████████| 9/9 [00:00<00:00, 473.27it/s]\n"
     ]
    },
    {
     "name": "stdout",
     "output_type": "stream",
     "text": [
      "[ Train | 002/100 ] loss = 387.15764\n",
      "[ Valid | 002/100 ] loss = 855.52146\n"
     ]
    },
    {
     "name": "stderr",
     "output_type": "stream",
     "text": [
      "100%|█████████████████████████████████████████████████████████████████████████████████| 78/78 [00:00<00:00, 191.54it/s]\n",
      "100%|███████████████████████████████████████████████████████████████████████████████████| 9/9 [00:00<00:00, 599.33it/s]\n"
     ]
    },
    {
     "name": "stdout",
     "output_type": "stream",
     "text": [
      "[ Train | 003/100 ] loss = 378.71814\n",
      "[ Valid | 003/100 ] loss = 975.22187\n"
     ]
    },
    {
     "name": "stderr",
     "output_type": "stream",
     "text": [
      "100%|█████████████████████████████████████████████████████████████████████████████████| 78/78 [00:00<00:00, 194.08it/s]\n",
      "100%|███████████████████████████████████████████████████████████████████████████████████| 9/9 [00:00<00:00, 528.95it/s]\n"
     ]
    },
    {
     "name": "stdout",
     "output_type": "stream",
     "text": [
      "[ Train | 004/100 ] loss = 371.51157\n",
      "[ Valid | 004/100 ] loss = 871.29073\n"
     ]
    },
    {
     "name": "stderr",
     "output_type": "stream",
     "text": [
      "100%|█████████████████████████████████████████████████████████████████████████████████| 78/78 [00:00<00:00, 196.79it/s]\n",
      "100%|███████████████████████████████████████████████████████████████████████████████████| 9/9 [00:00<00:00, 499.55it/s]\n"
     ]
    },
    {
     "name": "stdout",
     "output_type": "stream",
     "text": [
      "[ Train | 005/100 ] loss = 371.81459\n",
      "[ Valid | 005/100 ] loss = 1259.08520\n"
     ]
    },
    {
     "name": "stderr",
     "output_type": "stream",
     "text": [
      "100%|█████████████████████████████████████████████████████████████████████████████████| 78/78 [00:00<00:00, 192.89it/s]\n",
      "100%|███████████████████████████████████████████████████████████████████████████████████| 9/9 [00:00<00:00, 599.47it/s]\n"
     ]
    },
    {
     "name": "stdout",
     "output_type": "stream",
     "text": [
      "best loss updated!\n",
      "821.0456328392029 844.1831171247694\n",
      "[ Train | 006/100 ] loss = 359.55149\n",
      "[ Valid | 006/100 ] loss = 821.04563\n"
     ]
    },
    {
     "name": "stderr",
     "output_type": "stream",
     "text": [
      "100%|█████████████████████████████████████████████████████████████████████████████████| 78/78 [00:00<00:00, 176.76it/s]\n",
      "100%|███████████████████████████████████████████████████████████████████████████████████| 9/9 [00:00<00:00, 599.49it/s]\n"
     ]
    },
    {
     "name": "stdout",
     "output_type": "stream",
     "text": [
      "[ Train | 007/100 ] loss = 359.97416\n",
      "[ Valid | 007/100 ] loss = 1025.89474\n"
     ]
    },
    {
     "name": "stderr",
     "output_type": "stream",
     "text": [
      "100%|█████████████████████████████████████████████████████████████████████████████████| 78/78 [00:00<00:00, 198.29it/s]\n",
      "100%|███████████████████████████████████████████████████████████████████████████████████| 9/9 [00:00<00:00, 562.02it/s]\n"
     ]
    },
    {
     "name": "stdout",
     "output_type": "stream",
     "text": [
      "[ Train | 008/100 ] loss = 353.73803\n",
      "[ Valid | 008/100 ] loss = 827.35930\n"
     ]
    },
    {
     "name": "stderr",
     "output_type": "stream",
     "text": [
      "100%|█████████████████████████████████████████████████████████████████████████████████| 78/78 [00:00<00:00, 197.79it/s]\n",
      "100%|███████████████████████████████████████████████████████████████████████████████████| 9/9 [00:00<00:00, 599.49it/s]\n"
     ]
    },
    {
     "name": "stdout",
     "output_type": "stream",
     "text": [
      "[ Train | 009/100 ] loss = 361.79256\n",
      "[ Valid | 009/100 ] loss = 1397.96372\n"
     ]
    },
    {
     "name": "stderr",
     "output_type": "stream",
     "text": [
      "100%|█████████████████████████████████████████████████████████████████████████████████| 78/78 [00:00<00:00, 196.29it/s]\n",
      "100%|███████████████████████████████████████████████████████████████████████████████████| 9/9 [00:00<00:00, 599.45it/s]\n"
     ]
    },
    {
     "name": "stdout",
     "output_type": "stream",
     "text": [
      "[ Train | 010/100 ] loss = 353.62997\n",
      "[ Valid | 010/100 ] loss = 962.63674\n"
     ]
    },
    {
     "name": "stderr",
     "output_type": "stream",
     "text": [
      "100%|█████████████████████████████████████████████████████████████████████████████████| 78/78 [00:00<00:00, 195.31it/s]\n",
      "100%|███████████████████████████████████████████████████████████████████████████████████| 9/9 [00:00<00:00, 599.43it/s]\n"
     ]
    },
    {
     "name": "stdout",
     "output_type": "stream",
     "text": [
      "[ Train | 011/100 ] loss = 351.38662\n",
      "[ Valid | 011/100 ] loss = 1181.73942\n"
     ]
    },
    {
     "name": "stderr",
     "output_type": "stream",
     "text": [
      "100%|█████████████████████████████████████████████████████████████████████████████████| 78/78 [00:00<00:00, 192.89it/s]\n",
      "100%|███████████████████████████████████████████████████████████████████████████████████| 9/9 [00:00<00:00, 599.41it/s]\n"
     ]
    },
    {
     "name": "stdout",
     "output_type": "stream",
     "text": [
      "[ Train | 012/100 ] loss = 355.04565\n",
      "[ Valid | 012/100 ] loss = 884.84345\n"
     ]
    },
    {
     "name": "stderr",
     "output_type": "stream",
     "text": [
      "100%|█████████████████████████████████████████████████████████████████████████████████| 78/78 [00:00<00:00, 175.91it/s]\n",
      "100%|███████████████████████████████████████████████████████████████████████████████████| 9/9 [00:00<00:00, 599.46it/s]\n"
     ]
    },
    {
     "name": "stdout",
     "output_type": "stream",
     "text": [
      "[ Train | 013/100 ] loss = 354.74208\n",
      "[ Valid | 013/100 ] loss = 976.54797\n"
     ]
    },
    {
     "name": "stderr",
     "output_type": "stream",
     "text": [
      "100%|█████████████████████████████████████████████████████████████████████████████████| 78/78 [00:00<00:00, 193.85it/s]\n",
      "100%|███████████████████████████████████████████████████████████████████████████████████| 9/9 [00:00<00:00, 562.00it/s]\n"
     ]
    },
    {
     "name": "stdout",
     "output_type": "stream",
     "text": [
      "[ Train | 014/100 ] loss = 349.16722\n",
      "[ Valid | 014/100 ] loss = 936.09507\n"
     ]
    },
    {
     "name": "stderr",
     "output_type": "stream",
     "text": [
      "100%|█████████████████████████████████████████████████████████████████████████████████| 78/78 [00:00<00:00, 196.30it/s]\n",
      "100%|███████████████████████████████████████████████████████████████████████████████████| 9/9 [00:00<00:00, 562.00it/s]\n"
     ]
    },
    {
     "name": "stdout",
     "output_type": "stream",
     "text": [
      "[ Train | 015/100 ] loss = 346.77086\n",
      "[ Valid | 015/100 ] loss = 1265.35088\n"
     ]
    },
    {
     "name": "stderr",
     "output_type": "stream",
     "text": [
      "100%|█████████████████████████████████████████████████████████████████████████████████| 78/78 [00:00<00:00, 192.42it/s]\n",
      "100%|███████████████████████████████████████████████████████████████████████████████████| 9/9 [00:00<00:00, 599.47it/s]\n"
     ]
    },
    {
     "name": "stdout",
     "output_type": "stream",
     "text": [
      "[ Train | 016/100 ] loss = 350.54642\n",
      "[ Valid | 016/100 ] loss = 845.83104\n"
     ]
    },
    {
     "name": "stderr",
     "output_type": "stream",
     "text": [
      "100%|█████████████████████████████████████████████████████████████████████████████████| 78/78 [00:00<00:00, 194.34it/s]\n",
      "100%|███████████████████████████████████████████████████████████████████████████████████| 9/9 [00:00<00:00, 561.96it/s]\n"
     ]
    },
    {
     "name": "stdout",
     "output_type": "stream",
     "text": [
      "[ Train | 017/100 ] loss = 345.89298\n",
      "[ Valid | 017/100 ] loss = 2182.85214\n"
     ]
    },
    {
     "name": "stderr",
     "output_type": "stream",
     "text": [
      "100%|█████████████████████████████████████████████████████████████████████████████████| 78/78 [00:00<00:00, 194.34it/s]\n",
      "100%|███████████████████████████████████████████████████████████████████████████████████| 9/9 [00:00<00:00, 561.98it/s]\n"
     ]
    },
    {
     "name": "stdout",
     "output_type": "stream",
     "text": [
      "[ Train | 018/100 ] loss = 347.47518\n",
      "[ Valid | 018/100 ] loss = 855.33480\n"
     ]
    },
    {
     "name": "stderr",
     "output_type": "stream",
     "text": [
      "100%|█████████████████████████████████████████████████████████████████████████████████| 78/78 [00:00<00:00, 173.18it/s]\n",
      "100%|███████████████████████████████████████████████████████████████████████████████████| 9/9 [00:00<00:00, 599.45it/s]\n"
     ]
    },
    {
     "name": "stdout",
     "output_type": "stream",
     "text": [
      "[ Train | 019/100 ] loss = 344.98579\n",
      "[ Valid | 019/100 ] loss = 896.92150\n"
     ]
    },
    {
     "name": "stderr",
     "output_type": "stream",
     "text": [
      "100%|█████████████████████████████████████████████████████████████████████████████████| 78/78 [00:00<00:00, 189.15it/s]\n",
      "100%|███████████████████████████████████████████████████████████████████████████████████| 9/9 [00:00<00:00, 562.00it/s]\n"
     ]
    },
    {
     "name": "stdout",
     "output_type": "stream",
     "text": [
      "[ Train | 020/100 ] loss = 337.64100\n",
      "[ Valid | 020/100 ] loss = 947.70405\n"
     ]
    },
    {
     "name": "stderr",
     "output_type": "stream",
     "text": [
      "100%|█████████████████████████████████████████████████████████████████████████████████| 78/78 [00:00<00:00, 190.53it/s]\n",
      "100%|███████████████████████████████████████████████████████████████████████████████████| 9/9 [00:00<00:00, 599.43it/s]\n"
     ]
    },
    {
     "name": "stdout",
     "output_type": "stream",
     "text": [
      "[ Train | 021/100 ] loss = 337.25036\n",
      "[ Valid | 021/100 ] loss = 1425.16377\n"
     ]
    },
    {
     "name": "stderr",
     "output_type": "stream",
     "text": [
      "100%|█████████████████████████████████████████████████████████████████████████████████| 78/78 [00:00<00:00, 191.47it/s]\n",
      "100%|███████████████████████████████████████████████████████████████████████████████████| 9/9 [00:00<00:00, 599.47it/s]\n"
     ]
    },
    {
     "name": "stdout",
     "output_type": "stream",
     "text": [
      "[ Train | 022/100 ] loss = 341.07165\n",
      "[ Valid | 022/100 ] loss = 919.56977\n"
     ]
    },
    {
     "name": "stderr",
     "output_type": "stream",
     "text": [
      "100%|█████████████████████████████████████████████████████████████████████████████████| 78/78 [00:00<00:00, 186.88it/s]\n",
      "100%|███████████████████████████████████████████████████████████████████████████████████| 9/9 [00:00<00:00, 562.02it/s]\n"
     ]
    },
    {
     "name": "stdout",
     "output_type": "stream",
     "text": [
      "[ Train | 023/100 ] loss = 336.25001\n",
      "[ Valid | 023/100 ] loss = 898.72987\n"
     ]
    },
    {
     "name": "stderr",
     "output_type": "stream",
     "text": [
      "100%|█████████████████████████████████████████████████████████████████████████████████| 78/78 [00:00<00:00, 190.07it/s]\n",
      "100%|███████████████████████████████████████████████████████████████████████████████████| 9/9 [00:00<00:00, 562.03it/s]\n"
     ]
    },
    {
     "name": "stdout",
     "output_type": "stream",
     "text": [
      "[ Train | 024/100 ] loss = 337.63185\n",
      "[ Valid | 024/100 ] loss = 1792.18621\n"
     ]
    },
    {
     "name": "stderr",
     "output_type": "stream",
     "text": [
      "100%|█████████████████████████████████████████████████████████████████████████████████| 78/78 [00:00<00:00, 188.69it/s]\n",
      "100%|███████████████████████████████████████████████████████████████████████████████████| 9/9 [00:00<00:00, 599.45it/s]\n"
     ]
    },
    {
     "name": "stdout",
     "output_type": "stream",
     "text": [
      "[ Train | 025/100 ] loss = 336.14040\n",
      "[ Valid | 025/100 ] loss = 898.37400\n"
     ]
    },
    {
     "name": "stderr",
     "output_type": "stream",
     "text": [
      "100%|█████████████████████████████████████████████████████████████████████████████████| 78/78 [00:00<00:00, 169.96it/s]\n",
      "100%|███████████████████████████████████████████████████████████████████████████████████| 9/9 [00:00<00:00, 562.02it/s]\n"
     ]
    },
    {
     "name": "stdout",
     "output_type": "stream",
     "text": [
      "[ Train | 026/100 ] loss = 337.43648\n",
      "[ Valid | 026/100 ] loss = 1070.11827\n"
     ]
    },
    {
     "name": "stderr",
     "output_type": "stream",
     "text": [
      "100%|█████████████████████████████████████████████████████████████████████████████████| 78/78 [00:00<00:00, 187.09it/s]\n",
      "100%|███████████████████████████████████████████████████████████████████████████████████| 9/9 [00:00<00:00, 562.00it/s]\n"
     ]
    },
    {
     "name": "stdout",
     "output_type": "stream",
     "text": [
      "best loss updated!\n",
      "804.3730614450243 821.0456328392029\n",
      "[ Train | 027/100 ] loss = 336.94645\n",
      "[ Valid | 027/100 ] loss = 804.37306\n"
     ]
    },
    {
     "name": "stderr",
     "output_type": "stream",
     "text": [
      "100%|█████████████████████████████████████████████████████████████████████████████████| 78/78 [00:00<00:00, 181.65it/s]\n",
      "100%|███████████████████████████████████████████████████████████████████████████████████| 9/9 [00:00<00:00, 561.99it/s]\n"
     ]
    },
    {
     "name": "stdout",
     "output_type": "stream",
     "text": [
      "[ Train | 028/100 ] loss = 330.87042\n",
      "[ Valid | 028/100 ] loss = 804.77635\n"
     ]
    },
    {
     "name": "stderr",
     "output_type": "stream",
     "text": [
      "100%|█████████████████████████████████████████████████████████████████████████████████| 78/78 [00:00<00:00, 188.23it/s]\n",
      "100%|███████████████████████████████████████████████████████████████████████████████████| 9/9 [00:00<00:00, 528.95it/s]\n"
     ]
    },
    {
     "name": "stdout",
     "output_type": "stream",
     "text": [
      "[ Train | 029/100 ] loss = 344.47867\n",
      "[ Valid | 029/100 ] loss = 1040.30291\n"
     ]
    },
    {
     "name": "stderr",
     "output_type": "stream",
     "text": [
      "100%|█████████████████████████████████████████████████████████████████████████████████| 78/78 [00:00<00:00, 184.73it/s]\n",
      "100%|███████████████████████████████████████████████████████████████████████████████████| 9/9 [00:00<00:00, 499.57it/s]\n"
     ]
    },
    {
     "name": "stdout",
     "output_type": "stream",
     "text": [
      "[ Train | 030/100 ] loss = 331.21516\n",
      "[ Valid | 030/100 ] loss = 1459.17172\n"
     ]
    },
    {
     "name": "stderr",
     "output_type": "stream",
     "text": [
      "100%|█████████████████████████████████████████████████████████████████████████████████| 78/78 [00:00<00:00, 185.99it/s]\n",
      "100%|███████████████████████████████████████████████████████████████████████████████████| 9/9 [00:00<00:00, 528.92it/s]\n"
     ]
    },
    {
     "name": "stdout",
     "output_type": "stream",
     "text": [
      "[ Train | 031/100 ] loss = 333.78546\n",
      "[ Valid | 031/100 ] loss = 957.10761\n"
     ]
    },
    {
     "name": "stderr",
     "output_type": "stream",
     "text": [
      "100%|█████████████████████████████████████████████████████████████████████████████████| 78/78 [00:00<00:00, 171.57it/s]\n",
      "100%|███████████████████████████████████████████████████████████████████████████████████| 9/9 [00:00<00:00, 528.92it/s]\n"
     ]
    },
    {
     "name": "stdout",
     "output_type": "stream",
     "text": [
      "[ Train | 032/100 ] loss = 334.30471\n",
      "[ Valid | 032/100 ] loss = 1417.37080\n"
     ]
    },
    {
     "name": "stderr",
     "output_type": "stream",
     "text": [
      "100%|█████████████████████████████████████████████████████████████████████████████████| 78/78 [00:00<00:00, 194.34it/s]\n",
      "100%|███████████████████████████████████████████████████████████████████████████████████| 9/9 [00:00<00:00, 528.95it/s]\n"
     ]
    },
    {
     "name": "stdout",
     "output_type": "stream",
     "text": [
      "[ Train | 033/100 ] loss = 327.79852\n",
      "[ Valid | 033/100 ] loss = 1002.19031\n"
     ]
    },
    {
     "name": "stderr",
     "output_type": "stream",
     "text": [
      "100%|█████████████████████████████████████████████████████████████████████████████████| 78/78 [00:00<00:00, 190.07it/s]\n",
      "100%|███████████████████████████████████████████████████████████████████████████████████| 9/9 [00:00<00:00, 528.94it/s]\n"
     ]
    },
    {
     "name": "stdout",
     "output_type": "stream",
     "text": [
      "[ Train | 034/100 ] loss = 335.06019\n",
      "[ Valid | 034/100 ] loss = 914.58632\n"
     ]
    },
    {
     "name": "stderr",
     "output_type": "stream",
     "text": [
      "100%|█████████████████████████████████████████████████████████████████████████████████| 78/78 [00:00<00:00, 188.69it/s]\n",
      "100%|███████████████████████████████████████████████████████████████████████████████████| 9/9 [00:00<00:00, 499.54it/s]\n"
     ]
    },
    {
     "name": "stdout",
     "output_type": "stream",
     "text": [
      "[ Train | 035/100 ] loss = 332.84870\n",
      "[ Valid | 035/100 ] loss = 871.81882\n"
     ]
    },
    {
     "name": "stderr",
     "output_type": "stream",
     "text": [
      "100%|█████████████████████████████████████████████████████████████████████████████████| 78/78 [00:00<00:00, 194.34it/s]\n",
      "100%|███████████████████████████████████████████████████████████████████████████████████| 9/9 [00:00<00:00, 528.94it/s]\n"
     ]
    },
    {
     "name": "stdout",
     "output_type": "stream",
     "text": [
      "[ Train | 036/100 ] loss = 333.33684\n",
      "[ Valid | 036/100 ] loss = 916.30489\n"
     ]
    },
    {
     "name": "stderr",
     "output_type": "stream",
     "text": [
      "100%|█████████████████████████████████████████████████████████████████████████████████| 78/78 [00:00<00:00, 194.82it/s]\n",
      "100%|███████████████████████████████████████████████████████████████████████████████████| 9/9 [00:00<00:00, 528.95it/s]\n"
     ]
    },
    {
     "name": "stdout",
     "output_type": "stream",
     "text": [
      "[ Train | 037/100 ] loss = 334.71557\n",
      "[ Valid | 037/100 ] loss = 1099.72329\n"
     ]
    },
    {
     "name": "stderr",
     "output_type": "stream",
     "text": [
      "100%|█████████████████████████████████████████████████████████████████████████████████| 78/78 [00:00<00:00, 173.95it/s]\n",
      "100%|███████████████████████████████████████████████████████████████████████████████████| 9/9 [00:00<00:00, 499.53it/s]\n"
     ]
    },
    {
     "name": "stdout",
     "output_type": "stream",
     "text": [
      "[ Train | 038/100 ] loss = 325.80724\n",
      "[ Valid | 038/100 ] loss = 1113.42467\n"
     ]
    },
    {
     "name": "stderr",
     "output_type": "stream",
     "text": [
      "100%|█████████████████████████████████████████████████████████████████████████████████| 78/78 [00:00<00:00, 193.37it/s]\n",
      "100%|███████████████████████████████████████████████████████████████████████████████████| 9/9 [00:00<00:00, 528.95it/s]\n"
     ]
    },
    {
     "name": "stdout",
     "output_type": "stream",
     "text": [
      "[ Train | 039/100 ] loss = 327.01206\n",
      "[ Valid | 039/100 ] loss = 1061.82968\n"
     ]
    },
    {
     "name": "stderr",
     "output_type": "stream",
     "text": [
      "100%|█████████████████████████████████████████████████████████████████████████████████| 78/78 [00:00<00:00, 193.85it/s]\n",
      "100%|███████████████████████████████████████████████████████████████████████████████████| 9/9 [00:00<00:00, 473.26it/s]\n"
     ]
    },
    {
     "name": "stdout",
     "output_type": "stream",
     "text": [
      "[ Train | 040/100 ] loss = 331.02089\n",
      "[ Valid | 040/100 ] loss = 1651.10756\n"
     ]
    },
    {
     "name": "stderr",
     "output_type": "stream",
     "text": [
      "100%|█████████████████████████████████████████████████████████████████████████████████| 78/78 [00:00<00:00, 188.23it/s]\n",
      "100%|███████████████████████████████████████████████████████████████████████████████████| 9/9 [00:00<00:00, 528.93it/s]\n"
     ]
    },
    {
     "name": "stdout",
     "output_type": "stream",
     "text": [
      "[ Train | 041/100 ] loss = 327.51145\n",
      "[ Valid | 041/100 ] loss = 988.81618\n"
     ]
    },
    {
     "name": "stderr",
     "output_type": "stream",
     "text": [
      "100%|█████████████████████████████████████████████████████████████████████████████████| 78/78 [00:00<00:00, 191.47it/s]\n",
      "100%|███████████████████████████████████████████████████████████████████████████████████| 9/9 [00:00<00:00, 562.03it/s]\n"
     ]
    },
    {
     "name": "stdout",
     "output_type": "stream",
     "text": [
      "[ Train | 042/100 ] loss = 326.64825\n",
      "[ Valid | 042/100 ] loss = 974.11384\n"
     ]
    },
    {
     "name": "stderr",
     "output_type": "stream",
     "text": [
      "100%|█████████████████████████████████████████████████████████████████████████████████| 78/78 [00:00<00:00, 192.89it/s]\n",
      "100%|███████████████████████████████████████████████████████████████████████████████████| 9/9 [00:00<00:00, 562.03it/s]\n"
     ]
    },
    {
     "name": "stdout",
     "output_type": "stream",
     "text": [
      "[ Train | 043/100 ] loss = 328.09088\n",
      "[ Valid | 043/100 ] loss = 1220.53470\n"
     ]
    },
    {
     "name": "stderr",
     "output_type": "stream",
     "text": [
      "100%|█████████████████████████████████████████████████████████████████████████████████| 78/78 [00:00<00:00, 169.41it/s]\n",
      "100%|███████████████████████████████████████████████████████████████████████████████████| 9/9 [00:00<00:00, 528.92it/s]\n"
     ]
    },
    {
     "name": "stdout",
     "output_type": "stream",
     "text": [
      "[ Train | 044/100 ] loss = 322.72119\n",
      "[ Valid | 044/100 ] loss = 1014.48363\n"
     ]
    },
    {
     "name": "stderr",
     "output_type": "stream",
     "text": [
      "100%|█████████████████████████████████████████████████████████████████████████████████| 78/78 [00:00<00:00, 182.93it/s]\n",
      "100%|███████████████████████████████████████████████████████████████████████████████████| 9/9 [00:00<00:00, 528.96it/s]\n"
     ]
    },
    {
     "name": "stdout",
     "output_type": "stream",
     "text": [
      "[ Train | 045/100 ] loss = 326.23129\n",
      "[ Valid | 045/100 ] loss = 986.78099\n"
     ]
    },
    {
     "name": "stderr",
     "output_type": "stream",
     "text": [
      "100%|█████████████████████████████████████████████████████████████████████████████████| 78/78 [00:00<00:00, 185.10it/s]\n",
      "100%|███████████████████████████████████████████████████████████████████████████████████| 9/9 [00:00<00:00, 562.01it/s]\n"
     ]
    },
    {
     "name": "stdout",
     "output_type": "stream",
     "text": [
      "[ Train | 046/100 ] loss = 326.72229\n",
      "[ Valid | 046/100 ] loss = 984.83869\n"
     ]
    },
    {
     "name": "stderr",
     "output_type": "stream",
     "text": [
      "100%|█████████████████████████████████████████████████████████████████████████████████| 78/78 [00:00<00:00, 185.55it/s]\n",
      "100%|███████████████████████████████████████████████████████████████████████████████████| 9/9 [00:00<00:00, 562.09it/s]\n"
     ]
    },
    {
     "name": "stdout",
     "output_type": "stream",
     "text": [
      "[ Train | 047/100 ] loss = 327.22566\n",
      "[ Valid | 047/100 ] loss = 968.12240\n"
     ]
    },
    {
     "name": "stderr",
     "output_type": "stream",
     "text": [
      "100%|█████████████████████████████████████████████████████████████████████████████████| 78/78 [00:00<00:00, 194.58it/s]\n",
      "100%|███████████████████████████████████████████████████████████████████████████████████| 9/9 [00:00<00:00, 562.01it/s]\n"
     ]
    },
    {
     "name": "stdout",
     "output_type": "stream",
     "text": [
      "[ Train | 048/100 ] loss = 327.89110\n",
      "[ Valid | 048/100 ] loss = 963.19087\n"
     ]
    },
    {
     "name": "stderr",
     "output_type": "stream",
     "text": [
      "100%|█████████████████████████████████████████████████████████████████████████████████| 78/78 [00:00<00:00, 194.60it/s]\n",
      "100%|███████████████████████████████████████████████████████████████████████████████████| 9/9 [00:00<00:00, 562.00it/s]\n"
     ]
    },
    {
     "name": "stdout",
     "output_type": "stream",
     "text": [
      "[ Train | 049/100 ] loss = 325.99139\n",
      "[ Valid | 049/100 ] loss = 1111.92095\n"
     ]
    },
    {
     "name": "stderr",
     "output_type": "stream",
     "text": [
      "100%|█████████████████████████████████████████████████████████████████████████████████| 78/78 [00:00<00:00, 177.52it/s]\n",
      "100%|███████████████████████████████████████████████████████████████████████████████████| 9/9 [00:00<00:00, 562.04it/s]\n"
     ]
    },
    {
     "name": "stdout",
     "output_type": "stream",
     "text": [
      "[ Train | 050/100 ] loss = 324.29015\n",
      "[ Valid | 050/100 ] loss = 882.91213\n"
     ]
    },
    {
     "name": "stderr",
     "output_type": "stream",
     "text": [
      "100%|█████████████████████████████████████████████████████████████████████████████████| 78/78 [00:00<00:00, 195.31it/s]\n",
      "100%|███████████████████████████████████████████████████████████████████████████████████| 9/9 [00:00<00:00, 561.97it/s]\n"
     ]
    },
    {
     "name": "stdout",
     "output_type": "stream",
     "text": [
      "[ Train | 051/100 ] loss = 322.68933\n",
      "[ Valid | 051/100 ] loss = 1110.18419\n"
     ]
    },
    {
     "name": "stderr",
     "output_type": "stream",
     "text": [
      "100%|█████████████████████████████████████████████████████████████████████████████████| 78/78 [00:00<00:00, 196.28it/s]\n",
      "100%|███████████████████████████████████████████████████████████████████████████████████| 9/9 [00:00<00:00, 562.00it/s]\n"
     ]
    },
    {
     "name": "stdout",
     "output_type": "stream",
     "text": [
      "[ Train | 052/100 ] loss = 325.82691\n",
      "[ Valid | 052/100 ] loss = 1080.67092\n"
     ]
    },
    {
     "name": "stderr",
     "output_type": "stream",
     "text": [
      "100%|█████████████████████████████████████████████████████████████████████████████████| 78/78 [00:00<00:00, 194.79it/s]\n",
      "100%|███████████████████████████████████████████████████████████████████████████████████| 9/9 [00:00<00:00, 599.46it/s]\n"
     ]
    },
    {
     "name": "stdout",
     "output_type": "stream",
     "text": [
      "[ Train | 053/100 ] loss = 322.72429\n",
      "[ Valid | 053/100 ] loss = 957.88512\n"
     ]
    },
    {
     "name": "stderr",
     "output_type": "stream",
     "text": [
      "100%|█████████████████████████████████████████████████████████████████████████████████| 78/78 [00:00<00:00, 195.35it/s]\n",
      "100%|███████████████████████████████████████████████████████████████████████████████████| 9/9 [00:00<00:00, 561.97it/s]\n"
     ]
    },
    {
     "name": "stdout",
     "output_type": "stream",
     "text": [
      "[ Train | 054/100 ] loss = 324.85749\n",
      "[ Valid | 054/100 ] loss = 984.14547\n"
     ]
    },
    {
     "name": "stderr",
     "output_type": "stream",
     "text": [
      "100%|█████████████████████████████████████████████████████████████████████████████████| 78/78 [00:00<00:00, 195.80it/s]\n",
      "100%|███████████████████████████████████████████████████████████████████████████████████| 9/9 [00:00<00:00, 562.00it/s]\n"
     ]
    },
    {
     "name": "stdout",
     "output_type": "stream",
     "text": [
      "[ Train | 055/100 ] loss = 322.64679\n",
      "[ Valid | 055/100 ] loss = 1107.49896\n"
     ]
    },
    {
     "name": "stderr",
     "output_type": "stream",
     "text": [
      "100%|█████████████████████████████████████████████████████████████████████████████████| 78/78 [00:00<00:00, 195.31it/s]\n",
      "100%|███████████████████████████████████████████████████████████████████████████████████| 9/9 [00:00<00:00, 599.45it/s]\n"
     ]
    },
    {
     "name": "stdout",
     "output_type": "stream",
     "text": [
      "[ Train | 056/100 ] loss = 323.86343\n",
      "[ Valid | 056/100 ] loss = 944.54634\n"
     ]
    },
    {
     "name": "stderr",
     "output_type": "stream",
     "text": [
      "100%|█████████████████████████████████████████████████████████████████████████████████| 78/78 [00:00<00:00, 177.92it/s]\n",
      "100%|███████████████████████████████████████████████████████████████████████████████████| 9/9 [00:00<00:00, 562.00it/s]\n"
     ]
    },
    {
     "name": "stdout",
     "output_type": "stream",
     "text": [
      "[ Train | 057/100 ] loss = 325.84803\n",
      "[ Valid | 057/100 ] loss = 916.34746\n"
     ]
    },
    {
     "name": "stderr",
     "output_type": "stream",
     "text": [
      "100%|█████████████████████████████████████████████████████████████████████████████████| 78/78 [00:00<00:00, 195.31it/s]\n",
      "100%|███████████████████████████████████████████████████████████████████████████████████| 9/9 [00:00<00:00, 561.99it/s]\n"
     ]
    },
    {
     "name": "stdout",
     "output_type": "stream",
     "text": [
      "[ Train | 058/100 ] loss = 324.77625\n",
      "[ Valid | 058/100 ] loss = 981.04561\n"
     ]
    },
    {
     "name": "stderr",
     "output_type": "stream",
     "text": [
      "100%|█████████████████████████████████████████████████████████████████████████████████| 78/78 [00:00<00:00, 195.80it/s]\n",
      "100%|███████████████████████████████████████████████████████████████████████████████████| 9/9 [00:00<00:00, 599.44it/s]\n"
     ]
    },
    {
     "name": "stdout",
     "output_type": "stream",
     "text": [
      "[ Train | 059/100 ] loss = 321.95985\n",
      "[ Valid | 059/100 ] loss = 1158.13712\n"
     ]
    },
    {
     "name": "stderr",
     "output_type": "stream",
     "text": [
      "100%|█████████████████████████████████████████████████████████████████████████████████| 78/78 [00:00<00:00, 196.79it/s]\n",
      "100%|███████████████████████████████████████████████████████████████████████████████████| 9/9 [00:00<00:00, 561.97it/s]\n"
     ]
    },
    {
     "name": "stdout",
     "output_type": "stream",
     "text": [
      "[ Train | 060/100 ] loss = 322.65284\n",
      "[ Valid | 060/100 ] loss = 1335.65722\n"
     ]
    },
    {
     "name": "stderr",
     "output_type": "stream",
     "text": [
      "100%|█████████████████████████████████████████████████████████████████████████████████| 78/78 [00:00<00:00, 195.31it/s]\n",
      "100%|███████████████████████████████████████████████████████████████████████████████████| 9/9 [00:00<00:00, 561.99it/s]\n"
     ]
    },
    {
     "name": "stdout",
     "output_type": "stream",
     "text": [
      "[ Train | 061/100 ] loss = 319.23624\n",
      "[ Valid | 061/100 ] loss = 933.09086\n"
     ]
    },
    {
     "name": "stderr",
     "output_type": "stream",
     "text": [
      "100%|█████████████████████████████████████████████████████████████████████████████████| 78/78 [00:00<00:00, 194.82it/s]\n",
      "100%|███████████████████████████████████████████████████████████████████████████████████| 9/9 [00:00<00:00, 562.00it/s]\n"
     ]
    },
    {
     "name": "stdout",
     "output_type": "stream",
     "text": [
      "[ Train | 062/100 ] loss = 321.88852\n",
      "[ Valid | 062/100 ] loss = 986.77129\n"
     ]
    },
    {
     "name": "stderr",
     "output_type": "stream",
     "text": [
      "100%|█████████████████████████████████████████████████████████████████████████████████| 78/78 [00:00<00:00, 173.56it/s]\n",
      "100%|███████████████████████████████████████████████████████████████████████████████████| 9/9 [00:00<00:00, 561.99it/s]\n"
     ]
    },
    {
     "name": "stdout",
     "output_type": "stream",
     "text": [
      "[ Train | 063/100 ] loss = 318.40785\n",
      "[ Valid | 063/100 ] loss = 994.18938\n"
     ]
    },
    {
     "name": "stderr",
     "output_type": "stream",
     "text": [
      "100%|█████████████████████████████████████████████████████████████████████████████████| 78/78 [00:00<00:00, 186.88it/s]\n",
      "100%|███████████████████████████████████████████████████████████████████████████████████| 9/9 [00:00<00:00, 499.55it/s]\n"
     ]
    },
    {
     "name": "stdout",
     "output_type": "stream",
     "text": [
      "[ Train | 064/100 ] loss = 321.49503\n",
      "[ Valid | 064/100 ] loss = 1101.83964\n"
     ]
    },
    {
     "name": "stderr",
     "output_type": "stream",
     "text": [
      "100%|█████████████████████████████████████████████████████████████████████████████████| 78/78 [00:00<00:00, 191.47it/s]\n",
      "100%|███████████████████████████████████████████████████████████████████████████████████| 9/9 [00:00<00:00, 562.01it/s]\n"
     ]
    },
    {
     "name": "stdout",
     "output_type": "stream",
     "text": [
      "[ Train | 065/100 ] loss = 319.90759\n",
      "[ Valid | 065/100 ] loss = 937.20213\n"
     ]
    },
    {
     "name": "stderr",
     "output_type": "stream",
     "text": [
      "100%|█████████████████████████████████████████████████████████████████████████████████| 78/78 [00:00<00:00, 184.23it/s]\n",
      "100%|███████████████████████████████████████████████████████████████████████████████████| 9/9 [00:00<00:00, 473.24it/s]\n"
     ]
    },
    {
     "name": "stdout",
     "output_type": "stream",
     "text": [
      "[ Train | 066/100 ] loss = 316.59029\n",
      "[ Valid | 066/100 ] loss = 894.90407\n"
     ]
    },
    {
     "name": "stderr",
     "output_type": "stream",
     "text": [
      "100%|█████████████████████████████████████████████████████████████████████████████████| 78/78 [00:00<00:00, 188.23it/s]\n",
      "100%|███████████████████████████████████████████████████████████████████████████████████| 9/9 [00:00<00:00, 561.99it/s]\n"
     ]
    },
    {
     "name": "stdout",
     "output_type": "stream",
     "text": [
      "[ Train | 067/100 ] loss = 317.87086\n",
      "[ Valid | 067/100 ] loss = 965.63095\n"
     ]
    },
    {
     "name": "stderr",
     "output_type": "stream",
     "text": [
      "100%|█████████████████████████████████████████████████████████████████████████████████| 78/78 [00:00<00:00, 191.00it/s]\n",
      "100%|███████████████████████████████████████████████████████████████████████████████████| 9/9 [00:00<00:00, 599.46it/s]\n"
     ]
    },
    {
     "name": "stdout",
     "output_type": "stream",
     "text": [
      "[ Train | 068/100 ] loss = 321.05151\n",
      "[ Valid | 068/100 ] loss = 974.26552\n"
     ]
    },
    {
     "name": "stderr",
     "output_type": "stream",
     "text": [
      "100%|█████████████████████████████████████████████████████████████████████████████████| 78/78 [00:00<00:00, 175.52it/s]\n",
      "100%|███████████████████████████████████████████████████████████████████████████████████| 9/9 [00:00<00:00, 561.96it/s]\n"
     ]
    },
    {
     "name": "stdout",
     "output_type": "stream",
     "text": [
      "[ Train | 069/100 ] loss = 322.23736\n",
      "[ Valid | 069/100 ] loss = 1050.37366\n"
     ]
    },
    {
     "name": "stderr",
     "output_type": "stream",
     "text": [
      "100%|█████████████████████████████████████████████████████████████████████████████████| 78/78 [00:00<00:00, 180.81it/s]\n",
      "100%|███████████████████████████████████████████████████████████████████████████████████| 9/9 [00:00<00:00, 562.00it/s]\n"
     ]
    },
    {
     "name": "stdout",
     "output_type": "stream",
     "text": [
      "[ Train | 070/100 ] loss = 320.94312\n",
      "[ Valid | 070/100 ] loss = 1011.89722\n"
     ]
    },
    {
     "name": "stderr",
     "output_type": "stream",
     "text": [
      "100%|█████████████████████████████████████████████████████████████████████████████████| 78/78 [00:00<00:00, 195.31it/s]\n",
      "100%|███████████████████████████████████████████████████████████████████████████████████| 9/9 [00:00<00:00, 599.42it/s]\n"
     ]
    },
    {
     "name": "stdout",
     "output_type": "stream",
     "text": [
      "[ Train | 071/100 ] loss = 317.63632\n",
      "[ Valid | 071/100 ] loss = 948.88197\n"
     ]
    },
    {
     "name": "stderr",
     "output_type": "stream",
     "text": [
      "100%|█████████████████████████████████████████████████████████████████████████████████| 78/78 [00:00<00:00, 196.26it/s]\n",
      "100%|███████████████████████████████████████████████████████████████████████████████████| 9/9 [00:00<00:00, 599.48it/s]\n"
     ]
    },
    {
     "name": "stdout",
     "output_type": "stream",
     "text": [
      "[ Train | 072/100 ] loss = 319.13151\n",
      "[ Valid | 072/100 ] loss = 1129.98249\n"
     ]
    },
    {
     "name": "stderr",
     "output_type": "stream",
     "text": [
      "100%|█████████████████████████████████████████████████████████████████████████████████| 78/78 [00:00<00:00, 193.85it/s]\n",
      "100%|███████████████████████████████████████████████████████████████████████████████████| 9/9 [00:00<00:00, 599.44it/s]\n"
     ]
    },
    {
     "name": "stdout",
     "output_type": "stream",
     "text": [
      "[ Train | 073/100 ] loss = 318.20522\n",
      "[ Valid | 073/100 ] loss = 959.87928\n"
     ]
    },
    {
     "name": "stderr",
     "output_type": "stream",
     "text": [
      "100%|█████████████████████████████████████████████████████████████████████████████████| 78/78 [00:00<00:00, 185.55it/s]\n",
      "100%|███████████████████████████████████████████████████████████████████████████████████| 9/9 [00:00<00:00, 561.97it/s]\n"
     ]
    },
    {
     "name": "stdout",
     "output_type": "stream",
     "text": [
      "[ Train | 074/100 ] loss = 321.86122\n",
      "[ Valid | 074/100 ] loss = 994.66472\n"
     ]
    },
    {
     "name": "stderr",
     "output_type": "stream",
     "text": [
      "100%|█████████████████████████████████████████████████████████████████████████████████| 78/78 [00:00<00:00, 170.89it/s]\n",
      "100%|███████████████████████████████████████████████████████████████████████████████████| 9/9 [00:00<00:00, 528.92it/s]\n"
     ]
    },
    {
     "name": "stdout",
     "output_type": "stream",
     "text": [
      "[ Train | 075/100 ] loss = 319.42969\n",
      "[ Valid | 075/100 ] loss = 855.28800\n"
     ]
    },
    {
     "name": "stderr",
     "output_type": "stream",
     "text": [
      "100%|█████████████████████████████████████████████████████████████████████████████████| 78/78 [00:00<00:00, 185.06it/s]\n",
      "100%|███████████████████████████████████████████████████████████████████████████████████| 9/9 [00:00<00:00, 473.25it/s]\n"
     ]
    },
    {
     "name": "stdout",
     "output_type": "stream",
     "text": [
      "[ Train | 076/100 ] loss = 319.41148\n",
      "[ Valid | 076/100 ] loss = 954.78804\n"
     ]
    },
    {
     "name": "stderr",
     "output_type": "stream",
     "text": [
      "100%|█████████████████████████████████████████████████████████████████████████████████| 78/78 [00:00<00:00, 179.56it/s]\n",
      "100%|███████████████████████████████████████████████████████████████████████████████████| 9/9 [00:00<00:00, 599.50it/s]\n"
     ]
    },
    {
     "name": "stdout",
     "output_type": "stream",
     "text": [
      "[ Train | 077/100 ] loss = 319.81553\n",
      "[ Valid | 077/100 ] loss = 1098.55657\n"
     ]
    },
    {
     "name": "stderr",
     "output_type": "stream",
     "text": [
      "100%|█████████████████████████████████████████████████████████████████████████████████| 78/78 [00:00<00:00, 182.51it/s]\n",
      "100%|███████████████████████████████████████████████████████████████████████████████████| 9/9 [00:00<00:00, 599.46it/s]\n"
     ]
    },
    {
     "name": "stdout",
     "output_type": "stream",
     "text": [
      "[ Train | 078/100 ] loss = 317.98855\n",
      "[ Valid | 078/100 ] loss = 927.33907\n"
     ]
    },
    {
     "name": "stderr",
     "output_type": "stream",
     "text": [
      "100%|█████████████████████████████████████████████████████████████████████████████████| 78/78 [00:00<00:00, 185.99it/s]\n",
      "100%|███████████████████████████████████████████████████████████████████████████████████| 9/9 [00:00<00:00, 561.97it/s]\n"
     ]
    },
    {
     "name": "stdout",
     "output_type": "stream",
     "text": [
      "[ Train | 079/100 ] loss = 317.32486\n",
      "[ Valid | 079/100 ] loss = 1215.07673\n"
     ]
    },
    {
     "name": "stderr",
     "output_type": "stream",
     "text": [
      "100%|█████████████████████████████████████████████████████████████████████████████████| 78/78 [00:00<00:00, 183.36it/s]\n",
      "100%|███████████████████████████████████████████████████████████████████████████████████| 9/9 [00:00<00:00, 473.26it/s]\n"
     ]
    },
    {
     "name": "stdout",
     "output_type": "stream",
     "text": [
      "[ Train | 080/100 ] loss = 315.33361\n",
      "[ Valid | 080/100 ] loss = 945.09957\n"
     ]
    },
    {
     "name": "stderr",
     "output_type": "stream",
     "text": [
      "100%|█████████████████████████████████████████████████████████████████████████████████| 78/78 [00:00<00:00, 187.33it/s]\n",
      "100%|███████████████████████████████████████████████████████████████████████████████████| 9/9 [00:00<00:00, 499.53it/s]\n"
     ]
    },
    {
     "name": "stdout",
     "output_type": "stream",
     "text": [
      "[ Train | 081/100 ] loss = 318.57789\n",
      "[ Valid | 081/100 ] loss = 971.56782\n"
     ]
    },
    {
     "name": "stderr",
     "output_type": "stream",
     "text": [
      "100%|█████████████████████████████████████████████████████████████████████████████████| 78/78 [00:00<00:00, 167.95it/s]\n",
      "100%|███████████████████████████████████████████████████████████████████████████████████| 9/9 [00:00<00:00, 499.57it/s]\n"
     ]
    },
    {
     "name": "stdout",
     "output_type": "stream",
     "text": [
      "[ Train | 082/100 ] loss = 321.92679\n",
      "[ Valid | 082/100 ] loss = 1061.66741\n"
     ]
    },
    {
     "name": "stderr",
     "output_type": "stream",
     "text": [
      "100%|█████████████████████████████████████████████████████████████████████████████████| 78/78 [00:00<00:00, 188.69it/s]\n",
      "100%|███████████████████████████████████████████████████████████████████████████████████| 9/9 [00:00<00:00, 499.54it/s]\n"
     ]
    },
    {
     "name": "stdout",
     "output_type": "stream",
     "text": [
      "[ Train | 083/100 ] loss = 312.96495\n",
      "[ Valid | 083/100 ] loss = 1051.76110\n"
     ]
    },
    {
     "name": "stderr",
     "output_type": "stream",
     "text": [
      "100%|█████████████████████████████████████████████████████████████████████████████████| 78/78 [00:00<00:00, 187.78it/s]\n",
      "100%|███████████████████████████████████████████████████████████████████████████████████| 9/9 [00:00<00:00, 499.55it/s]\n"
     ]
    },
    {
     "name": "stdout",
     "output_type": "stream",
     "text": [
      "[ Train | 084/100 ] loss = 318.04289\n",
      "[ Valid | 084/100 ] loss = 1267.60603\n"
     ]
    },
    {
     "name": "stderr",
     "output_type": "stream",
     "text": [
      "100%|█████████████████████████████████████████████████████████████████████████████████| 78/78 [00:00<00:00, 175.91it/s]\n",
      "100%|███████████████████████████████████████████████████████████████████████████████████| 9/9 [00:00<00:00, 499.55it/s]\n"
     ]
    },
    {
     "name": "stdout",
     "output_type": "stream",
     "text": [
      "[ Train | 085/100 ] loss = 316.73890\n",
      "[ Valid | 085/100 ] loss = 1034.70601\n"
     ]
    },
    {
     "name": "stderr",
     "output_type": "stream",
     "text": [
      "100%|█████████████████████████████████████████████████████████████████████████████████| 78/78 [00:00<00:00, 177.11it/s]\n",
      "100%|███████████████████████████████████████████████████████████████████████████████████| 9/9 [00:00<00:00, 449.58it/s]\n"
     ]
    },
    {
     "name": "stdout",
     "output_type": "stream",
     "text": [
      "[ Train | 086/100 ] loss = 314.58350\n",
      "[ Valid | 086/100 ] loss = 1029.69823\n"
     ]
    },
    {
     "name": "stderr",
     "output_type": "stream",
     "text": [
      "100%|█████████████████████████████████████████████████████████████████████████████████| 78/78 [00:00<00:00, 182.93it/s]\n",
      "100%|███████████████████████████████████████████████████████████████████████████████████| 9/9 [00:00<00:00, 499.54it/s]\n"
     ]
    },
    {
     "name": "stdout",
     "output_type": "stream",
     "text": [
      "[ Train | 087/100 ] loss = 318.95356\n",
      "[ Valid | 087/100 ] loss = 908.10181\n"
     ]
    },
    {
     "name": "stderr",
     "output_type": "stream",
     "text": [
      "100%|█████████████████████████████████████████████████████████████████████████████████| 78/78 [00:00<00:00, 161.34it/s]\n",
      "100%|███████████████████████████████████████████████████████████████████████████████████| 9/9 [00:00<00:00, 499.55it/s]\n"
     ]
    },
    {
     "name": "stdout",
     "output_type": "stream",
     "text": [
      "[ Train | 088/100 ] loss = 317.88674\n",
      "[ Valid | 088/100 ] loss = 889.43706\n"
     ]
    },
    {
     "name": "stderr",
     "output_type": "stream",
     "text": [
      "100%|█████████████████████████████████████████████████████████████████████████████████| 78/78 [00:00<00:00, 187.33it/s]\n",
      "100%|███████████████████████████████████████████████████████████████████████████████████| 9/9 [00:00<00:00, 562.00it/s]\n"
     ]
    },
    {
     "name": "stdout",
     "output_type": "stream",
     "text": [
      "[ Train | 089/100 ] loss = 312.87948\n",
      "[ Valid | 089/100 ] loss = 888.99827\n"
     ]
    },
    {
     "name": "stderr",
     "output_type": "stream",
     "text": [
      "100%|█████████████████████████████████████████████████████████████████████████████████| 78/78 [00:00<00:00, 186.43it/s]\n",
      "100%|███████████████████████████████████████████████████████████████████████████████████| 9/9 [00:00<00:00, 473.26it/s]\n"
     ]
    },
    {
     "name": "stdout",
     "output_type": "stream",
     "text": [
      "[ Train | 090/100 ] loss = 314.77296\n",
      "[ Valid | 090/100 ] loss = 944.26595\n"
     ]
    },
    {
     "name": "stderr",
     "output_type": "stream",
     "text": [
      "100%|█████████████████████████████████████████████████████████████████████████████████| 78/78 [00:00<00:00, 184.67it/s]\n",
      "100%|███████████████████████████████████████████████████████████████████████████████████| 9/9 [00:00<00:00, 528.94it/s]\n"
     ]
    },
    {
     "name": "stdout",
     "output_type": "stream",
     "text": [
      "[ Train | 091/100 ] loss = 313.61581\n",
      "[ Valid | 091/100 ] loss = 1167.38152\n"
     ]
    },
    {
     "name": "stderr",
     "output_type": "stream",
     "text": [
      "100%|█████████████████████████████████████████████████████████████████████████████████| 78/78 [00:00<00:00, 189.15it/s]\n",
      "100%|███████████████████████████████████████████████████████████████████████████████████| 9/9 [00:00<00:00, 499.57it/s]\n"
     ]
    },
    {
     "name": "stdout",
     "output_type": "stream",
     "text": [
      "[ Train | 092/100 ] loss = 313.02304\n",
      "[ Valid | 092/100 ] loss = 1015.39632\n"
     ]
    },
    {
     "name": "stderr",
     "output_type": "stream",
     "text": [
      "100%|█████████████████████████████████████████████████████████████████████████████████| 78/78 [00:00<00:00, 192.65it/s]\n",
      "100%|███████████████████████████████████████████████████████████████████████████████████| 9/9 [00:00<00:00, 561.97it/s]\n"
     ]
    },
    {
     "name": "stdout",
     "output_type": "stream",
     "text": [
      "[ Train | 093/100 ] loss = 319.30438\n",
      "[ Valid | 093/100 ] loss = 1072.06777\n"
     ]
    },
    {
     "name": "stderr",
     "output_type": "stream",
     "text": [
      "100%|█████████████████████████████████████████████████████████████████████████████████| 78/78 [00:00<00:00, 170.30it/s]\n",
      "100%|███████████████████████████████████████████████████████████████████████████████████| 9/9 [00:00<00:00, 473.24it/s]\n"
     ]
    },
    {
     "name": "stdout",
     "output_type": "stream",
     "text": [
      "[ Train | 094/100 ] loss = 315.74511\n",
      "[ Valid | 094/100 ] loss = 1017.81801\n"
     ]
    },
    {
     "name": "stderr",
     "output_type": "stream",
     "text": [
      "100%|█████████████████████████████████████████████████████████████████████████████████| 78/78 [00:00<00:00, 191.47it/s]\n",
      "100%|███████████████████████████████████████████████████████████████████████████████████| 9/9 [00:00<00:00, 561.98it/s]\n"
     ]
    },
    {
     "name": "stdout",
     "output_type": "stream",
     "text": [
      "[ Train | 095/100 ] loss = 319.55727\n",
      "[ Valid | 095/100 ] loss = 904.00192\n"
     ]
    },
    {
     "name": "stderr",
     "output_type": "stream",
     "text": [
      "100%|█████████████████████████████████████████████████████████████████████████████████| 78/78 [00:00<00:00, 193.81it/s]\n",
      "100%|███████████████████████████████████████████████████████████████████████████████████| 9/9 [00:00<00:00, 528.90it/s]\n"
     ]
    },
    {
     "name": "stdout",
     "output_type": "stream",
     "text": [
      "[ Train | 096/100 ] loss = 317.36667\n",
      "[ Valid | 096/100 ] loss = 1034.79785\n"
     ]
    },
    {
     "name": "stderr",
     "output_type": "stream",
     "text": [
      "100%|█████████████████████████████████████████████████████████████████████████████████| 78/78 [00:00<00:00, 189.97it/s]\n",
      "100%|███████████████████████████████████████████████████████████████████████████████████| 9/9 [00:00<00:00, 528.97it/s]\n"
     ]
    },
    {
     "name": "stdout",
     "output_type": "stream",
     "text": [
      "[ Train | 097/100 ] loss = 314.81527\n",
      "[ Valid | 097/100 ] loss = 1024.99494\n"
     ]
    },
    {
     "name": "stderr",
     "output_type": "stream",
     "text": [
      "100%|█████████████████████████████████████████████████████████████████████████████████| 78/78 [00:00<00:00, 195.89it/s]\n",
      "100%|███████████████████████████████████████████████████████████████████████████████████| 9/9 [00:00<00:00, 599.43it/s]\n"
     ]
    },
    {
     "name": "stdout",
     "output_type": "stream",
     "text": [
      "[ Train | 098/100 ] loss = 318.40734\n",
      "[ Valid | 098/100 ] loss = 1078.72764\n"
     ]
    },
    {
     "name": "stderr",
     "output_type": "stream",
     "text": [
      "100%|█████████████████████████████████████████████████████████████████████████████████| 78/78 [00:00<00:00, 191.94it/s]\n",
      "100%|███████████████████████████████████████████████████████████████████████████████████| 9/9 [00:00<00:00, 562.01it/s]\n"
     ]
    },
    {
     "name": "stdout",
     "output_type": "stream",
     "text": [
      "[ Train | 099/100 ] loss = 312.00129\n",
      "[ Valid | 099/100 ] loss = 1245.23796\n"
     ]
    },
    {
     "name": "stderr",
     "output_type": "stream",
     "text": [
      "100%|█████████████████████████████████████████████████████████████████████████████████| 78/78 [00:00<00:00, 173.95it/s]\n",
      "100%|███████████████████████████████████████████████████████████████████████████████████| 9/9 [00:00<00:00, 561.99it/s]"
     ]
    },
    {
     "name": "stdout",
     "output_type": "stream",
     "text": [
      "[ Train | 100/100 ] loss = 315.58422\n",
      "[ Valid | 100/100 ] loss = 1070.96298\n"
     ]
    },
    {
     "name": "stderr",
     "output_type": "stream",
     "text": [
      "\n"
     ]
    }
   ],
   "source": [
    "model = NN(39).to(device)\n",
    "model.device = device\n",
    "if os.path.exists('best_weight.pth'):\n",
    "    try:\n",
    "        model.load_state_dict(torch.load('best_weight.pth'))\n",
    "    except: \n",
    "        print('The model weight does not exist!')\n",
    "\n",
    "# For the classification task, we use cross-entropy as the measurement of performance.\n",
    "criterion = nn.MSELoss()\n",
    "optimizer = torch.optim.Adam(model.parameters(), lr = 3e-4, weight_decay = 1e-5)\n",
    "\n",
    "# The number of training epochs.\n",
    "n_epochs = 100\n",
    "best_loss = 1000.0\n",
    "train_loss_record = []\n",
    "valid_loss_record = []\n",
    "\n",
    "for epoch in range(n_epochs):\n",
    "    model.train()\n",
    "    train_loss = []\n",
    "    train_accs = []\n",
    "\n",
    "    # Iterate the training set by batches.\n",
    "    for batch in tqdm(train_loader):\n",
    "        imgs, labels = batch\n",
    "        logits = model(imgs.to(device))\n",
    "        loss = criterion(torch.squeeze(logits), labels.to(device))\n",
    "\n",
    "        # Gradients stored in the parameters in the previous step should be cleared out first.\n",
    "        optimizer.zero_grad()\n",
    "        # Compute the gradients for parameters.\n",
    "        loss.backward()\n",
    "        grad_norm = nn.utils.clip_grad_norm_(model.parameters(), max_norm=10)\n",
    "        optimizer.step()\n",
    "\n",
    "        # Record the loss and accuracy.\n",
    "        train_loss.append(loss.item())\n",
    "\n",
    "    # The average loss and accuracy of the training set is the average of the recorded values.\n",
    "    train_loss = sum(train_loss) / len(train_loss)\n",
    "    train_loss_record.append(train_loss)\n",
    "\n",
    "    # ---------- Validation ----------\n",
    "    # Make sure the model is in eval mode so that some modules like dropout are disabled and work normally.\n",
    "    model.eval()\n",
    "\n",
    "    valid_loss = []\n",
    "\n",
    "    # Iterate the validation set by batches.\n",
    "    for batch in tqdm(val_loader):\n",
    "        imgs, labels = batch\n",
    "        with torch.no_grad():\n",
    "            logits = model(imgs.to(device))\n",
    "        loss = criterion(torch.squeeze(logits), labels.to(device))\n",
    "        valid_loss.append(loss.item())\n",
    "\n",
    "    # The average loss and accuracy for entire validation set is the average of the recorded values.\n",
    "    valid_loss = sum(valid_loss) / len(valid_loss)\n",
    "    valid_loss_record.append(valid_loss)\n",
    "    \n",
    "    if valid_loss < best_loss:\n",
    "        print(\"best loss updated!\")\n",
    "        print(valid_loss, best_loss)\n",
    "        best_model = model\n",
    "        best_loss = valid_loss\n",
    "        torch.save(model.state_dict(), \"best_weight.pth\")\n",
    "\n",
    "    # Print the information.\n",
    "    print(f\"[ Train | {epoch + 1:03d}/{n_epochs:03d} ] loss = {train_loss:.5f}\")\n",
    "    print(f\"[ Valid | {epoch + 1:03d}/{n_epochs:03d} ] loss = {valid_loss:.5f}\")"
   ]
  },
  {
   "cell_type": "code",
   "execution_count": 13,
   "metadata": {},
   "outputs": [
    {
     "name": "stdout",
     "output_type": "stream",
     "text": [
      "804.3730614450243\n"
     ]
    }
   ],
   "source": [
    "print(best_loss)"
   ]
  },
  {
   "cell_type": "markdown",
   "metadata": {
    "id": "1Hi7jTn3PX-m"
   },
   "source": [
    "## Testing"
   ]
  },
  {
   "cell_type": "markdown",
   "metadata": {
    "id": "NfUECMFCn5VG"
   },
   "source": [
    "Create a testing dataset, and load model from the saved checkpoint."
   ]
  },
  {
   "cell_type": "code",
   "execution_count": 14,
   "metadata": {
    "id": "1PKjtAScPWtr"
   },
   "outputs": [],
   "source": [
    "# create testing dataset\n",
    "test_set = DrugDataset(val_x)\n",
    "test_loader = DataLoader(test_set, batch_size=BATCH_SIZE, shuffle=False)"
   ]
  },
  {
   "cell_type": "markdown",
   "metadata": {
    "id": "940TtCCdoYd0"
   },
   "source": [
    "Make prediction and output the result."
   ]
  },
  {
   "cell_type": "code",
   "execution_count": 15,
   "metadata": {
    "id": "84HU5GGjPqR0"
   },
   "outputs": [
    {
     "name": "stderr",
     "output_type": "stream",
     "text": [
      "100%|███████████████████████████████████████████████████████████████████████████████████| 9/9 [00:00<00:00, 749.34it/s]"
     ]
    },
    {
     "name": "stdout",
     "output_type": "stream",
     "text": [
      "[7, 47, 71, 7, 7, 55, 7, 71, 71, 65, 71, 65, 6, 71, 53, 7, 65, 30, 65, 65, 0, 65, 3, 91, 55, 3, 2, 0, 153, 65, 65, 65, 0, 7, 71, 30, 30, 65, 153, 91, 71, 153, 65, 65, 7, 65, 7, 91, 65, 65, 153, 153, 71, 53, 65, 153, 153, 65, 153, 40, 71, 65, 71, 53, 65, 153, 7, 153, 7, 65, 13, 65, 6, 7, 91, 65, 51, 91, 101, 65, 91, 71, 65, 7, 283, 3, 7, 65, 53, 53, 7, 53, 7, 65, 71, 65, 65, 71, 65, 18, 92, 3, 17, 153, 65, 71, 65, 65, 56, 30, 53, 30, 214, 53, 29, 30, 53, 53, 7, 53, 65, 153, 65, 65, 3, 53, 26, 0, 53, 7, 7, 7, 0, 65, 26, 65, 65, 71, 53, 65, 71, 65, 7, 3, 21, 153, 26, 45, 143, 153, 65, 65]\n"
     ]
    },
    {
     "name": "stderr",
     "output_type": "stream",
     "text": [
      "\n"
     ]
    }
   ],
   "source": [
    "predict = []\n",
    "model.eval() # set the model to evaluation mode\n",
    "with torch.no_grad():\n",
    "    for batch in tqdm(test_loader):\n",
    "        imgs = batch\n",
    "        with torch.no_grad():\n",
    "            logits = model(imgs.to(device))\n",
    "            answer = torch.squeeze(logits.cpu()).numpy().tolist()\n",
    "    print(list(map(int, answer)))\n",
    "    print"
   ]
  },
  {
   "cell_type": "code",
   "execution_count": 16,
   "metadata": {},
   "outputs": [
    {
     "data": {
      "image/png": "[encoded data removed]",
      "text/plain": [
       "<Figure size 432x288 with 1 Axes>"
      ]
     },
     "metadata": {
      "needs_background": "light"
     },
     "output_type": "display_data"
    }
   ],
   "source": [
    "%matplotlib inline\n",
    "\n",
    "import numpy as np\n",
    "import matplotlib.pyplot as plt\n",
    "\n",
    "x = train_loss_record\n",
    "y = valid_loss_record\n",
    "epoch = [i for i in range(1, n_epochs + 1)]\n",
    "\n",
    "plt.xlabel('epoch')\n",
    "plt.ylabel('loss')\n",
    "plt.title('DNN structure loss graph')\n",
    "plt.plot(epoch, x, label = 'train')\n",
    "plt.plot(epoch, y, label = 'validation')\n",
    "plt.legend()\n",
    "plt.show()"
   ]
  },
  {
   "cell_type": "code",
   "execution_count": null,
   "metadata": {},
   "outputs": [],
   "source": []
  }
 ],
 "metadata": {
  "accelerator": "GPU",
  "colab": {
   "collapsed_sections": [],
   "machine_shape": "hm",
   "name": "Copy of MLSpring22_HW2.ipynb",
   "provenance": []
  },
  "kernelspec": {
   "display_name": "Python 3 (ipykernel)",
   "language": "python",
   "name": "python3"
  },
  "language_info": {
   "codemirror_mode": {
    "name": "ipython",
    "version": 3
   },
   "file_extension": ".py",
   "mimetype": "text/x-python",
   "name": "python",
   "nbconvert_exporter": "python",
   "pygments_lexer": "ipython3",
   "version": "3.9.7"
  },
  "vscode": {
   "interpreter": {
    "hash": "3e06028060a7864164bfee2227bae8dfd39c60041c455d9e6b5a8dd3aec9b09f"
   }
  }
 },
 "nbformat": 4,
 "nbformat_minor": 1
}
