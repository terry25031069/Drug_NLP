{
 "cells": [
  {
   "cell_type": "code",
   "execution_count": 1,
   "id": "c8ce5689",
   "metadata": {
    "scrolled": false
   },
   "outputs": [
    {
     "ename": "FileNotFoundError",
     "evalue": "[Errno 2] No such file or directory: 'C:\\\\Users\\\\nsl\\\\Desktop\\\\stopword.txt'",
     "output_type": "error",
     "traceback": [
      "\u001b[1;31m---------------------------------------------------------------------------\u001b[0m",
      "\u001b[1;31mFileNotFoundError\u001b[0m                         Traceback (most recent call last)",
      "\u001b[1;32m~\\AppData\\Local\\Temp/ipykernel_2072/2131613986.py\u001b[0m in \u001b[0;36m<module>\u001b[1;34m\u001b[0m\n\u001b[0;32m     15\u001b[0m \u001b[0mcnt\u001b[0m \u001b[1;33m=\u001b[0m \u001b[1;36m0\u001b[0m\u001b[1;33m\u001b[0m\u001b[1;33m\u001b[0m\u001b[0m\n\u001b[0;32m     16\u001b[0m \u001b[1;33m\u001b[0m\u001b[0m\n\u001b[1;32m---> 17\u001b[1;33m \u001b[1;32mwith\u001b[0m \u001b[0mopen\u001b[0m\u001b[1;33m(\u001b[0m\u001b[0mos\u001b[0m\u001b[1;33m.\u001b[0m\u001b[0menviron\u001b[0m\u001b[1;33m[\u001b[0m\u001b[1;34m'USERPROFILE'\u001b[0m\u001b[1;33m]\u001b[0m \u001b[1;33m+\u001b[0m \u001b[1;34m'\\\\Desktop\\\\stopword.txt'\u001b[0m\u001b[1;33m,\u001b[0m \u001b[1;34m'r'\u001b[0m\u001b[1;33m,\u001b[0m \u001b[0mencoding\u001b[0m \u001b[1;33m=\u001b[0m \u001b[1;34m'utf-8'\u001b[0m\u001b[1;33m)\u001b[0m \u001b[1;32mas\u001b[0m \u001b[0mf\u001b[0m\u001b[1;33m:\u001b[0m\u001b[1;33m\u001b[0m\u001b[1;33m\u001b[0m\u001b[0m\n\u001b[0m\u001b[0;32m     18\u001b[0m     \u001b[0mstopwords\u001b[0m \u001b[1;33m=\u001b[0m \u001b[0mf\u001b[0m\u001b[1;33m.\u001b[0m\u001b[0mread\u001b[0m\u001b[1;33m(\u001b[0m\u001b[1;33m)\u001b[0m\u001b[1;33m.\u001b[0m\u001b[0msplit\u001b[0m\u001b[1;33m(\u001b[0m\u001b[1;34m'\\n'\u001b[0m\u001b[1;33m)\u001b[0m\u001b[1;33m\u001b[0m\u001b[1;33m\u001b[0m\u001b[0m\n\u001b[0;32m     19\u001b[0m \u001b[1;32mwith\u001b[0m \u001b[0mopen\u001b[0m\u001b[1;33m(\u001b[0m\u001b[0mos\u001b[0m\u001b[1;33m.\u001b[0m\u001b[0menviron\u001b[0m\u001b[1;33m[\u001b[0m\u001b[1;34m'USERPROFILE'\u001b[0m\u001b[1;33m]\u001b[0m \u001b[1;33m+\u001b[0m \u001b[1;34m'\\\\Desktop\\\\result.txt'\u001b[0m\u001b[1;33m,\u001b[0m \u001b[1;34m'r'\u001b[0m\u001b[1;33m,\u001b[0m \u001b[0mencoding\u001b[0m \u001b[1;33m=\u001b[0m \u001b[1;34m'utf-8'\u001b[0m\u001b[1;33m)\u001b[0m \u001b[1;32mas\u001b[0m \u001b[0mg\u001b[0m\u001b[1;33m:\u001b[0m\u001b[1;33m\u001b[0m\u001b[1;33m\u001b[0m\u001b[0m\n",
      "\u001b[1;31mFileNotFoundError\u001b[0m: [Errno 2] No such file or directory: 'C:\\\\Users\\\\nsl\\\\Desktop\\\\stopword.txt'"
     ]
    }
   ],
   "source": [
    "#抽主文\n",
    "import os, re\n",
    "import json\n",
    "import jieba, numpy\n",
    "import string, gensim\n",
    "import threading\n",
    "import pandas as pd\n",
    "import numpy as np\n",
    "from gensim.models.doc2vec import Doc2Vec\n",
    "from collections import Counter\n",
    "\n",
    "# 先只抓刑事判決\n",
    "dirpath = os.environ['USERPROFILE'] + '\\\\Desktop\\\\酒駕\\\\'\n",
    "x_train = []\n",
    "cnt = 0\n",
    "\n",
    "with open(os.environ['USERPROFILE'] + '\\\\Desktop\\\\stopword.txt', 'r', encoding = 'utf-8') as f:\n",
    "    stopwords = f.read().split('\\n')\n",
    "g = open(os.environ['USERPROFILE'] + '\\\\Desktop\\\\result.txt', 'r', encoding = 'utf-8')\n",
    "\n",
    "cas = 0    \n",
    "    \n",
    "for i in os.listdir(dirpath):\n",
    "    with open(os.path.join(dirpath, i), \"r\", encoding = 'UTF-8') as f:\n",
    "        data = json.load(f)['JFULL']\n",
    "        data = data.replace(' ', '').replace('　', '')\n",
    "    target0 = data.find('主文\\r\\n')    \n",
    "    # 如果案字帶有秩的，代表為社會秩序維護法的案子，並不在我們的管理範圍內\n",
    "    if \"秩\" in i: continue\n",
    "\n",
    "    # 如果 JFULL 找不到主文，那就代表是 pdf 檔案\n",
    "    # 暫定不處置\n",
    "    if target0 == -1: continue     \n",
    "    else:\n",
    "        target1 = [9999999]\n",
    "        if data.find('事實及理由\\r\\n') != -1:\n",
    "            target1.append(data.find('事實及理由\\r\\n', target0))\n",
    "        if data.find('犯罪事實\\r\\n') != -1:\n",
    "            target1.append(data.find('犯罪事實\\r\\n', target0))\n",
    "        if data.find('理由\\r\\n') != -1:\n",
    "            target1.append(data.find('理由\\r\\n', target0))\n",
    "        if data.find('事實\\r\\n') != -1:\n",
    "            target1.append(data.find('事實\\r\\n', target0))\n",
    "        if data.find('中華民國') != -1:\n",
    "            target1.append(data.find('中華民國', target0))\n",
    "        target1 = min(target1)\n",
    "        if target1 == 9999999: continue\n",
    "            \n",
    "        data = data[target1:].replace('\\r\\n', '')\n",
    "        data = re.split(r'[，。「」（）『』【】；：、]', data)\n",
    "        jieba.load_userdict(os.environ['USERPROFILE'] + \"\\\\Desktop\\\\private_data\\\\Sync\\\\TKU_LIFE_lab\\\\Dict.txt\")\n",
    "        for i in range(len(data)): \n",
    "#             data[i] = data[i].replace(\"，\", \" \").replace(\"。\", \" \").replace(\"「\", \" \").replace(\"」\", \" \").replace(\"（\", \" \") \\\n",
    "#                        .replace(\"）\", \" \").replace(\"【\", \" \").replace(\"】\", \" \").replace(\"、\", \" \").replace(\"：\", \" \") \\\n",
    "#                        .replace(\"；\", \" \")\n",
    "            tmp = jieba.lcut(data[i])\n",
    "            tmp = [w for w in tmp if w not in stopwords]\n",
    "            TaggedDoc = gensim.models.doc2vec.TaggedDocument\n",
    "            document = TaggedDoc(tmp, tags=[cnt])\n",
    "            x_train.append(document)\n",
    "            cnt += 1\n",
    "        cas += 1\n",
    "        if cas % 500 == 0: print(cas)\n",
    "print('finished!')\n",
    "        "
   ]
  },
  {
   "cell_type": "code",
   "execution_count": null,
   "id": "f89e8b18",
   "metadata": {},
   "outputs": [],
   "source": [
    "print(x_train[1])"
   ]
  },
  {
   "cell_type": "code",
   "execution_count": null,
   "id": "559e30d0",
   "metadata": {},
   "outputs": [],
   "source": [
    "def train(x_train):\n",
    "    model = Doc2Vec(x_train, min_count = 1, window = 3, vector_size = 300, negative = 5, sample = 1e-3)\n",
    "    model.train(x_train, total_examples = model.corpus_count, epochs = 10)\n",
    "    return model\n",
    "\n",
    "model = train(x_train)\n",
    "model.save(\"model.bin\")"
   ]
  },
  {
   "cell_type": "code",
   "execution_count": null,
   "id": "fc786cc8",
   "metadata": {},
   "outputs": [],
   "source": [
    "vector = model.infer_vector(doc)\n",
    "\n",
    "for i in os.listdir(dirpath):\n",
    "    with open(os.path.join(dirpath, i), \"r\", encoding = 'UTF-8') as f:\n",
    "        data = json.load(f)['JFULL']\n",
    "        data = data.replace(' ', '').replace('　', '')\n",
    "    target0 = data.find('主文\\r\\n')    \n",
    "    # 如果案字帶有秩的，代表為社會秩序維護法的案子，並不在我們的管理範圍內\n",
    "    if \"秩\" in i: continue\n",
    "\n",
    "    # 如果 JFULL 找不到主文，那就代表是 pdf 檔案\n",
    "    # 暫定不處置\n",
    "    if target0 == -1: continue     \n",
    "    else:\n",
    "        target1 = []\n",
    "        if data.find('事實及理由\\r\\n') != -1:\n",
    "            target1.append(data.find('事實及理由\\r\\n', target0))\n",
    "        if data.find('犯罪事實\\r\\n') != -1:\n",
    "            target1.append(data.find('犯罪事實\\r\\n', target0))\n",
    "        if data.find('理由\\r\\n') != -1:\n",
    "            target1.append(data.find('理由\\r\\n', target0))\n",
    "        if data.find('事實\\r\\n') != -1:\n",
    "            target1.append(data.find('事實\\r\\n', target0))\n",
    "        if data.find('中華民國') != -1:\n",
    "            target1.append(data.find('中華民國', target0))\n",
    "        target1 = min(target1)\n",
    "\n",
    "        data = data.translate(str.maketrans('', '', string.punctuation))\n",
    "        data = data.replace(\"，\", \" \").replace(\"。\", \" \").replace(\"「\", \" \").replace(\"」\", \" \").replace(\"（\", \" \") \\\n",
    "                   .replace(\"）\", \" \").replace(\"【\", \" \").replace(\"】\", \" \").replace(\"、\", \" \").replace(\"：\", \" \") \\\n",
    "                   .replace(\"；\", \" \").replace(\"\\r\\n\", \"\")\n",
    "        \n"
   ]
  },
  {
   "cell_type": "code",
   "execution_count": null,
   "id": "984b7460",
   "metadata": {},
   "outputs": [],
   "source": []
  }
 ],
 "metadata": {
  "kernelspec": {
   "display_name": "Python 3.9.7 ('base')",
   "language": "python",
   "name": "python3"
  },
  "language_info": {
   "codemirror_mode": {
    "name": "ipython",
    "version": 3
   },
   "file_extension": ".py",
   "mimetype": "text/x-python",
   "name": "python",
   "nbconvert_exporter": "python",
   "pygments_lexer": "ipython3",
   "version": "3.9.7"
  },
  "vscode": {
   "interpreter": {
    "hash": "05de0b632ee093a2df604e1e7b1e93170a57afefd520daca59860fd192a5de53"
   }
  }
 },
 "nbformat": 4,
 "nbformat_minor": 5
}
