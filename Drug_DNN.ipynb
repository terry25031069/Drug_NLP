{
 "cells": [
  {
   "cell_type": "code",
   "execution_count": 21,
   "metadata": {},
   "outputs": [],
   "source": [
    "import os, re, shutil, json, time, math\n",
    "import jieba, numpy\n",
    "import string, gensim\n",
    "import threading\n",
    "import pandas as pd\n",
    "import numpy as np\n",
    "import seaborn as sn\n",
    "import matplotlib as plt\n",
    "from gensim.models.doc2vec import Doc2Vec\n",
    "from collections import Counter\n",
    "from tqdm import tqdm\n",
    "from sklearn import metrics"
   ]
  },
  {
   "cell_type": "code",
   "execution_count": 7,
   "metadata": {},
   "outputs": [],
   "source": [
    "def extract_jfull(filename: str):\n",
    "    with open(os.path.join(dirpath + '/drug_case', filename), \"r\", encoding = 'UTF-8') as f:\n",
    "        data = json.load(f)['JFULL']\n",
    "        data = data.replace(' ', '').replace('　', '')\n",
    "    target0 = data.find('主文\\r\\n')\n",
    "    # 如果案字帶有秩的，代表為社會秩序維護法的案子，並不在我們的管理範圍內\n",
    "    if \"秩\" in filename: \n",
    "        return \"\"\n",
    "    \n",
    "    # 如果 JFULL 找不到主文，那就代表是 pdf 檔案\n",
    "    # 暫定不處置\n",
    "    if target0 != -1:\n",
    "        target1 = []\n",
    "        if data.find('事實及理由\\r\\n') != -1:\n",
    "            target1.append(data.find('事實及理由\\r\\n', target0))\n",
    "        if data.find('犯罪事實\\r\\n') != -1:\n",
    "            target1.append(data.find('犯罪事實\\r\\n', target0))\n",
    "        if data.find('理由\\r\\n') != -1:\n",
    "            target1.append(data.find('理由\\r\\n', target0))\n",
    "        if data.find('事實\\r\\n') != -1:\n",
    "            target1.append(data.find('事實\\r\\n', target0))\n",
    "        if data.find('中華民國') != -1:\n",
    "            target1.append(data.find('中華民國', target0))\n",
    "        target1 = min(target1)\n",
    "\n",
    "        data = data[target1:].replace('\\r\\n', '')\n",
    "        split_data = re.split(r'[，。「」（）『』【】；：、]', data)\n",
    "        return (data, split_data)\n",
    "    else:\n",
    "        return \"\""
   ]
  },
  {
   "cell_type": "code",
   "execution_count": 8,
   "metadata": {},
   "outputs": [],
   "source": [
    "vector = ['第4條第1項', '第4條第2項', '第4條第3項', '第4條第4項', '第4條第5項', '第4條第6項', '第5條第1項', '第5條第2項', '第5條第3項', '第6條第2項', '第6條第3項', '第6條第4項', '第6條第5項', '第8條第1項', '第8條第2項', '第8條第3項', '第8條第4項', '第8條第5項', '第8條第6項', '第9條第1項', '第9條第2項', '第9條第3項', '第10條第1項', '第10條第2項', '第11條第1項', '第11條第2項', '第11條第3項', '第11條第4項', '第11條第5項', '第11條第6項', '第11條第7項', '第12條第2項', '第13條第2項', '第14條第2項', '第14條第3項', '第14條第4項', '第17條第1項', '第17條第2項', '第17條第3項']\n",
    "\n",
    "def lawcode_preprocessing(filename, result_str_seq):\n",
    "    return_list = []\n",
    "    location1, location2 = 0, 0\n",
    "    result_lawcode = ''\n",
    "    \n",
    "    #若原來字串第一個為第X條第X項，則截取第X條的部分\n",
    "    if len(result_str_seq[0]) > 5:\n",
    "        location1 = result_str_seq[0].find('第')\n",
    "        location2 = result_str_seq[0].find('第', location1)\n",
    "        # print(result_str_seq[0][location1: location2])\n",
    "        result_lawcode = result_str_seq[0][location1: location2]\n",
    "        \n",
    "    for idx in range(len(result_str_seq)):\n",
    "        # 如果切割出來的字串長度超過 7 就砍到剩下 7 \n",
    "        # 之後看到項就截取到項，否則就看有沒有條\n",
    "        result_str = result_str_seq[idx]\n",
    "        if len(result_str) > 7: result_str = result_str[:7]\n",
    "        if \"項\" in result_str: result_str = result_str[: result_str.find('項') + 1]\n",
    "        else: result_str = result_str[: result_str.find('條') + 1]\n",
    "\n",
    "        # TODO: 單純「第X項」的沒有處理好\n",
    "        if len(result_str) > 5 and result_str[0] == '第' and result_str[-1] == '項':\n",
    "            result_str = result_lawcode + result_str\n",
    "        for j in [\"第\" + str(k) + \"條\" for k in range(4, 18)]:\n",
    "            if j in result_str:\n",
    "                return_list.append(result_str)\n",
    "    #print(i, return_list)\n",
    "    return return_list\n",
    "\n",
    "def lawcode_vectoring(text):\n",
    "    textloc2 = 0\n",
    "    all_result_str_seq = []\n",
    "    text_vector = [0] * 39\n",
    "    \n",
    "    while 1:\n",
    "        textloc1 = text.find('毒品危害防制條例第', textloc2)\n",
    "        if textloc1 == -1: break\n",
    "        tmp = text[textloc1: textloc1 + 30]\n",
    "        if \"刑法\" in tmp: tmp = tmp[: tmp.find('刑法')]\n",
    "        textloc2 = max(tmp.rfind('項'), (tmp.rfind('項') == -1) * tmp.rfind('條'))\n",
    "        if textloc2 == -1: continue\n",
    "        result_str_seq = text[textloc1 + 8: textloc1 + textloc2 + 1].split('、')\n",
    "        \n",
    "        result_str_seq = lawcode_preprocessing(i, result_str_seq)\n",
    "        all_result_str_seq.extend(result_str_seq)\n",
    "        all_result_str_seq = list(set(all_result_str_seq) & set(vector))\n",
    "        \n",
    "        # counting the word freq and return freq word vector\n",
    "        for result_str in all_result_str_seq:\n",
    "            text_vector[vector.index(result_str)] += 1\n",
    "        textloc2 = textloc1 + textloc2 + 1\n",
    "        \n",
    "    return text_vector"
   ]
  },
  {
   "cell_type": "code",
   "execution_count": 9,
   "metadata": {},
   "outputs": [
    {
     "name": "stderr",
     "output_type": "stream",
     "text": [
      "100%|███████████████████████████████████████████████████████████████████████████| 23112/23112 [00:38<00:00, 606.34it/s]\n"
     ]
    }
   ],
   "source": [
    "desktop = os.environ['USERPROFILE'] + '/Desktop'\n",
    "dirpath = desktop + '/Drug_NLP'\n",
    "\n",
    "model = Doc2Vec.load(dirpath + \"/drug_model.bin\")\n",
    "tmp = open(dirpath + '/label.txt', 'r', encoding = 'utf-8').readlines()\n",
    "# check text now is in the text file of project directory\n",
    "check_text = [i[:-1] for i in open(dirpath + '/drug_dict.txt', 'r', encoding = 'utf-8').readlines()]\n",
    "\n",
    "label = {}\n",
    "train, train_label = [], []\n",
    "\n",
    "for i in tqdm(tmp):\n",
    "    filename, sencnt = i.split()\n",
    "    label[filename] = sencnt\n",
    "    beh = [0] * len(check_text)\n",
    "    \n",
    "    # text preprocessing\n",
    "    text, split_text = extract_jfull(filename)\n",
    "    text = text.replace('第1、2項', '第1項、第2項').replace('第3、4項', '第3項、第4項') \\\n",
    "        .replace('條條', '條').replace('第第', '第').replace('２', '2')\n",
    "    for j in [\"條\" + str(k) + \"項\" for k in range(7)]:\n",
    "        text = text.replace(j, j[0] + \"第\" + j[1:])\n",
    "        \n",
    "    all_result_str_seq = lawcode_vectoring(text)\n",
    "        \n",
    "    for ii in range(len(check_text)):\n",
    "        beh[ii] = text.count(check_text[ii])\n",
    "\n",
    "    # loss comparison: \n",
    "    ## keyword + lawcode: 400-500\n",
    "    ## only doc2vec: 266\n",
    "    ## doc2vec + keyword + lawcode: 173\n",
    "    ## doc2vec + keyword: 210\n",
    "    text_vec = np.array(model.infer_vector(split_text).tolist() + beh + all_result_str_seq)\n",
    "   \n",
    "    train.append(text_vec)\n",
    "    train_label.append(sencnt)"
   ]
  },
  {
   "cell_type": "code",
   "execution_count": 10,
   "metadata": {},
   "outputs": [
    {
     "name": "stdout",
     "output_type": "stream",
     "text": [
      "23112 23112\n"
     ]
    }
   ],
   "source": [
    "print(len(train), len(train_label))"
   ]
  },
  {
   "cell_type": "code",
   "execution_count": 11,
   "metadata": {},
   "outputs": [
    {
     "name": "stdout",
     "output_type": "stream",
     "text": [
      "(23112, 420) (23112,)\n"
     ]
    }
   ],
   "source": [
    "train = np.array(train)\n",
    "train_label = np.array(train_label)\n",
    "print(train.shape, train_label.shape)"
   ]
  },
  {
   "cell_type": "markdown",
   "metadata": {
    "id": "us5XW_x6udZQ"
   },
   "source": [
    "## Create Dataset"
   ]
  },
  {
   "cell_type": "code",
   "execution_count": 12,
   "metadata": {
    "id": "Fjf5EcmJtf4e"
   },
   "outputs": [],
   "source": [
    "import torch\n",
    "from torch.utils.data import Dataset\n",
    "\n",
    "class DrugDataset(Dataset):\n",
    "    def __init__(self, X, y=None):\n",
    "        self.data = torch.from_numpy(X).float()\n",
    "        if y is not None:\n",
    "            y = y.astype(np.float)\n",
    "            self.label = torch.FloatTensor(y)\n",
    "        else:\n",
    "            self.label = None\n",
    "\n",
    "    def __getitem__(self, idx):\n",
    "        if self.label is not None:\n",
    "            return self.data[idx], self.label[idx]\n",
    "        else:\n",
    "            return self.data[idx]\n",
    "\n",
    "    def __len__(self):\n",
    "        return len(self.data)"
   ]
  },
  {
   "cell_type": "markdown",
   "metadata": {
    "id": "otIC6WhGeh9v"
   },
   "source": [
    "Split the labeled data into a training set and a validation set, you can modify the variable `VAL_RATIO` to change the ratio of validation data."
   ]
  },
  {
   "cell_type": "code",
   "execution_count": 13,
   "metadata": {
    "colab": {
     "base_uri": "https://localhost:8080/"
    },
    "id": "sYqi_lAuvC59",
    "outputId": "4507dc52-3083-446c-fa1a-bba22073af89"
   },
   "outputs": [
    {
     "name": "stdout",
     "output_type": "stream",
     "text": [
      "Size of training set: (20800, 420)\n",
      "Size of validation set: (2312, 420)\n"
     ]
    }
   ],
   "source": [
    "VAL_RATIO = 0.1\n",
    "\n",
    "percent = int(train.shape[0] * (1 - VAL_RATIO))\n",
    "train_x, train_y, val_x, val_y = train[:percent], train_label[:percent], train[percent:], train_label[percent:]\n",
    "print('Size of training set: {}'.format(train_x.shape))\n",
    "print('Size of validation set: {}'.format(val_x.shape))"
   ]
  },
  {
   "cell_type": "markdown",
   "metadata": {
    "id": "nbCfclUIgMTX"
   },
   "source": [
    "Create a data loader from the dataset, feel free to tweak the variable `BATCH_SIZE` here."
   ]
  },
  {
   "cell_type": "code",
   "execution_count": 14,
   "metadata": {
    "colab": {
     "base_uri": "https://localhost:8080/"
    },
    "id": "RUCbQvqJurYc",
    "outputId": "4ed55f36-131b-4aed-e171-29a936bed9de"
   },
   "outputs": [
    {
     "name": "stderr",
     "output_type": "stream",
     "text": [
      "C:\\Users\\terry\\AppData\\Local\\Temp/ipykernel_10308/604575324.py:8: DeprecationWarning: `np.float` is a deprecated alias for the builtin `float`. To silence this warning, use `float` by itself. Doing this will not modify any behavior and is safe. If you specifically wanted the numpy scalar type, use `np.float64` here.\n",
      "Deprecated in NumPy 1.20; for more details and guidance: https://numpy.org/devdocs/release/1.20.0-notes.html#deprecations\n",
      "  y = y.astype(np.float)\n"
     ]
    }
   ],
   "source": [
    "BATCH_SIZE = 512\n",
    "\n",
    "from torch.utils.data import DataLoader\n",
    "\n",
    "train_set = DrugDataset(train_x, train_y)\n",
    "val_set = DrugDataset(val_x, val_y)\n",
    "train_loader = DataLoader(train_set, batch_size=BATCH_SIZE, shuffle=True) #only shuffle the training data\n",
    "val_loader = DataLoader(val_set, batch_size=BATCH_SIZE, shuffle=False)"
   ]
  },
  {
   "cell_type": "markdown",
   "metadata": {
    "id": "_SY7X0lUgb50"
   },
   "source": [
    "Cleanup the unneeded variables to save memory.<br>\n",
    "\n",
    "**notes: if you need to use these variables later, then you may remove this block or clean up unneeded variables later<br>the data size is quite huge, so be aware of memory usage in colab**"
   ]
  },
  {
   "cell_type": "markdown",
   "metadata": {
    "id": "IRqKNvNZwe3V"
   },
   "source": [
    "## Create Model"
   ]
  },
  {
   "cell_type": "markdown",
   "metadata": {
    "id": "FYr1ng5fh9pA"
   },
   "source": [
    "Define model architecture, you are encouraged to change and experiment with the model architecture."
   ]
  },
  {
   "cell_type": "code",
   "execution_count": 15,
   "metadata": {
    "id": "lbZrwT6Ny0XL"
   },
   "outputs": [],
   "source": [
    "import torch as t\n",
    "import torch.nn as nn\n",
    "\n",
    "class NN(nn.Module):\n",
    "    ''' A simple fully-connected deep neural network '''\n",
    "    def __init__(self, input_dim):\n",
    "        super(NN, self).__init__()\n",
    "\n",
    "        self.net = nn.Sequential(\n",
    "            nn.BatchNorm1d(input_dim),\n",
    "            nn.Linear(input_dim, 1024),\n",
    "            nn.BatchNorm1d(1024),\n",
    "            nn.ReLU(),\n",
    "            nn.Linear(1024, 1024),\n",
    "            nn.BatchNorm1d(1024),\n",
    "            nn.ReLU(),\n",
    "            nn.Linear(1024, 1),\n",
    "            nn.ReLU(),\n",
    "        )\n",
    "        \n",
    "    def forward(self, x):\n",
    "        ''' Given input of size (batch_size x input_dim), compute output of the network '''\n",
    "        return self.net(x)"
   ]
  },
  {
   "cell_type": "markdown",
   "metadata": {
    "id": "VRYciXZvPbYh"
   },
   "source": [
    "## Training"
   ]
  },
  {
   "cell_type": "code",
   "execution_count": 16,
   "metadata": {
    "id": "y114Vmm3Ja6o"
   },
   "outputs": [
    {
     "name": "stdout",
     "output_type": "stream",
     "text": [
      "cuda\n"
     ]
    }
   ],
   "source": [
    "#check device\n",
    "def get_device():\n",
    "    return 'cuda' if torch.cuda.is_available() else 'cpu'\n",
    "device = get_device()\n",
    "print(device)"
   ]
  },
  {
   "cell_type": "markdown",
   "metadata": {
    "id": "KbBcBXkSp6RA"
   },
   "source": [
    "Feel free to change the training parameters here."
   ]
  },
  {
   "cell_type": "code",
   "execution_count": 12,
   "metadata": {
    "colab": {
     "base_uri": "https://localhost:8080/",
     "height": 375
    },
    "id": "QTp3ZXg1yO9Y",
    "outputId": "ff6221ce-72b8-4b2a-8872-f52a13c49752",
    "scrolled": true
   },
   "outputs": [
    {
     "name": "stdout",
     "output_type": "stream",
     "text": [
      "The model weight does not exist!\n",
      "best loss updated!\n",
      "320.3178192138672 1000.0\n",
      "[ Train | 001/1000 ] loss = 605.89189\n",
      "[ Valid | 001/1000 ] loss = 320.31782\n",
      "best loss updated!\n",
      "298.8758262634277 320.3178192138672\n",
      "best loss updated!\n",
      "291.29490394592284 298.8758262634277\n",
      "best loss updated!\n",
      "288.2724349975586 291.29490394592284\n",
      "best loss updated!\n",
      "281.29564208984374 288.2724349975586\n",
      "best loss updated!\n",
      "278.5270706176758 281.29564208984374\n",
      "best loss updated!\n",
      "273.063391494751 278.5270706176758\n",
      "[ Train | 011/1000 ] loss = 212.45895\n",
      "[ Valid | 011/1000 ] loss = 311.11584\n",
      "best loss updated!\n",
      "272.6367637634277 273.063391494751\n",
      "best loss updated!\n",
      "265.19508666992186 272.6367637634277\n",
      "best loss updated!\n",
      "263.9089714050293 265.19508666992186\n",
      "[ Train | 021/1000 ] loss = 140.89330\n",
      "[ Valid | 021/1000 ] loss = 263.90897\n",
      "best loss updated!\n",
      "260.4142841339111 263.9089714050293\n",
      "[ Train | 031/1000 ] loss = 111.80512\n",
      "[ Valid | 031/1000 ] loss = 332.27286\n",
      "best loss updated!\n",
      "248.56989994049073 260.4142841339111\n",
      "[ Train | 041/1000 ] loss = 86.11000\n",
      "[ Valid | 041/1000 ] loss = 280.64168\n",
      "best loss updated!\n",
      "242.19335746765137 248.56989994049073\n",
      "[ Train | 051/1000 ] loss = 78.00516\n",
      "[ Valid | 051/1000 ] loss = 270.09125\n",
      "[ Train | 061/1000 ] loss = 72.61067\n",
      "[ Valid | 061/1000 ] loss = 260.40701\n",
      "best loss updated!\n",
      "241.3402307510376 242.19335746765137\n",
      "[ Train | 071/1000 ] loss = 68.92464\n",
      "[ Valid | 071/1000 ] loss = 275.96464\n",
      "best loss updated!\n",
      "237.42178344726562 241.3402307510376\n",
      "best loss updated!\n",
      "230.32802734375 237.42178344726562\n",
      "[ Train | 081/1000 ] loss = 63.00829\n",
      "[ Valid | 081/1000 ] loss = 242.91149\n",
      "[ Train | 091/1000 ] loss = 64.08739\n",
      "[ Valid | 091/1000 ] loss = 248.05619\n",
      "best loss updated!\n",
      "225.99423084259033 230.32802734375\n",
      "best loss updated!\n",
      "217.8968463897705 225.99423084259033\n",
      "[ Train | 101/1000 ] loss = 62.13420\n",
      "[ Valid | 101/1000 ] loss = 268.21094\n",
      "[ Train | 111/1000 ] loss = 61.95815\n",
      "[ Valid | 111/1000 ] loss = 234.35003\n",
      "[ Train | 121/1000 ] loss = 59.79949\n",
      "[ Valid | 121/1000 ] loss = 226.88310\n",
      "best loss updated!\n",
      "215.71484985351563 217.8968463897705\n",
      "[ Train | 131/1000 ] loss = 59.14199\n",
      "[ Valid | 131/1000 ] loss = 215.71485\n",
      "[ Train | 141/1000 ] loss = 57.67476\n",
      "[ Valid | 141/1000 ] loss = 240.04138\n",
      "[ Train | 151/1000 ] loss = 58.24933\n",
      "[ Valid | 151/1000 ] loss = 224.14796\n",
      "best loss updated!\n",
      "215.52695121765137 215.71484985351563\n",
      "best loss updated!\n",
      "212.861275100708 215.52695121765137\n",
      "[ Train | 161/1000 ] loss = 56.51256\n",
      "[ Valid | 161/1000 ] loss = 238.81799\n",
      "[ Train | 171/1000 ] loss = 56.38744\n",
      "[ Valid | 171/1000 ] loss = 252.21295\n",
      "best loss updated!\n",
      "208.1141613006592 212.861275100708\n",
      "[ Train | 181/1000 ] loss = 55.69029\n",
      "[ Valid | 181/1000 ] loss = 215.89232\n",
      "[ Train | 191/1000 ] loss = 55.49883\n",
      "[ Valid | 191/1000 ] loss = 242.47539\n",
      "[ Train | 201/1000 ] loss = 54.71088\n",
      "[ Valid | 201/1000 ] loss = 231.19184\n",
      "[ Train | 211/1000 ] loss = 53.85243\n",
      "[ Valid | 211/1000 ] loss = 221.80352\n",
      "[ Train | 221/1000 ] loss = 54.01406\n",
      "[ Valid | 221/1000 ] loss = 244.16709\n",
      "[ Train | 231/1000 ] loss = 54.89197\n",
      "[ Valid | 231/1000 ] loss = 243.74639\n",
      "[ Train | 241/1000 ] loss = 53.44484\n",
      "[ Valid | 241/1000 ] loss = 252.23584\n",
      "[ Train | 251/1000 ] loss = 54.23663\n",
      "[ Valid | 251/1000 ] loss = 218.79186\n",
      "[ Train | 261/1000 ] loss = 53.01391\n",
      "[ Valid | 261/1000 ] loss = 237.10477\n",
      "[ Train | 271/1000 ] loss = 55.64301\n",
      "[ Valid | 271/1000 ] loss = 214.68906\n",
      "[ Train | 281/1000 ] loss = 53.24186\n",
      "[ Valid | 281/1000 ] loss = 248.30882\n",
      "[ Train | 291/1000 ] loss = 54.54560\n",
      "[ Valid | 291/1000 ] loss = 224.00194\n",
      "[ Train | 301/1000 ] loss = 53.35470\n",
      "[ Valid | 301/1000 ] loss = 228.61429\n",
      "[ Train | 311/1000 ] loss = 51.95394\n",
      "[ Valid | 311/1000 ] loss = 233.15832\n",
      "[ Train | 321/1000 ] loss = 52.09842\n",
      "[ Valid | 321/1000 ] loss = 216.45432\n",
      "[ Train | 331/1000 ] loss = 53.29374\n",
      "[ Valid | 331/1000 ] loss = 217.94166\n",
      "[ Train | 341/1000 ] loss = 52.43393\n",
      "[ Valid | 341/1000 ] loss = 230.23549\n",
      "best loss updated!\n",
      "205.19659805297852 208.1141613006592\n",
      "[ Train | 351/1000 ] loss = 52.84491\n",
      "[ Valid | 351/1000 ] loss = 234.64740\n",
      "[ Train | 361/1000 ] loss = 51.53592\n",
      "[ Valid | 361/1000 ] loss = 225.13386\n",
      "[ Train | 371/1000 ] loss = 52.27364\n",
      "[ Valid | 371/1000 ] loss = 221.09396\n",
      "[ Train | 381/1000 ] loss = 52.34165\n",
      "[ Valid | 381/1000 ] loss = 212.66963\n",
      "[ Train | 391/1000 ] loss = 51.79100\n",
      "[ Valid | 391/1000 ] loss = 219.29840\n",
      "[ Train | 401/1000 ] loss = 52.02400\n",
      "[ Valid | 401/1000 ] loss = 222.71835\n",
      "[ Train | 411/1000 ] loss = 51.46204\n",
      "[ Valid | 411/1000 ] loss = 223.34083\n",
      "[ Train | 421/1000 ] loss = 51.68520\n",
      "[ Valid | 421/1000 ] loss = 209.86181\n",
      "[ Train | 431/1000 ] loss = 51.33087\n",
      "[ Valid | 431/1000 ] loss = 229.37728\n",
      "[ Train | 441/1000 ] loss = 51.78186\n",
      "[ Valid | 441/1000 ] loss = 214.28622\n",
      "[ Train | 451/1000 ] loss = 51.20392\n",
      "[ Valid | 451/1000 ] loss = 234.75393\n",
      "[ Train | 461/1000 ] loss = 50.34648\n",
      "[ Valid | 461/1000 ] loss = 234.23744\n",
      "[ Train | 471/1000 ] loss = 50.55685\n",
      "[ Valid | 471/1000 ] loss = 221.94258\n",
      "[ Train | 481/1000 ] loss = 50.14395\n",
      "[ Valid | 481/1000 ] loss = 230.33085\n",
      "[ Train | 491/1000 ] loss = 50.73113\n",
      "[ Valid | 491/1000 ] loss = 226.87366\n",
      "[ Train | 501/1000 ] loss = 50.74815\n",
      "[ Valid | 501/1000 ] loss = 214.38819\n",
      "[ Train | 511/1000 ] loss = 49.12921\n",
      "[ Valid | 511/1000 ] loss = 224.96618\n",
      "[ Train | 521/1000 ] loss = 49.41497\n",
      "[ Valid | 521/1000 ] loss = 220.02054\n",
      "[ Train | 531/1000 ] loss = 50.36652\n",
      "[ Valid | 531/1000 ] loss = 214.11816\n",
      "[ Train | 541/1000 ] loss = 50.37874\n",
      "[ Valid | 541/1000 ] loss = 233.39469\n",
      "[ Train | 551/1000 ] loss = 48.87986\n",
      "[ Valid | 551/1000 ] loss = 228.51997\n",
      "[ Train | 561/1000 ] loss = 50.36376\n",
      "[ Valid | 561/1000 ] loss = 233.58404\n",
      "[ Train | 571/1000 ] loss = 48.70625\n",
      "[ Valid | 571/1000 ] loss = 250.80709\n",
      "[ Train | 581/1000 ] loss = 49.31604\n",
      "[ Valid | 581/1000 ] loss = 226.81373\n",
      "[ Train | 591/1000 ] loss = 48.88287\n",
      "[ Valid | 591/1000 ] loss = 219.23211\n",
      "[ Train | 601/1000 ] loss = 49.67486\n",
      "[ Valid | 601/1000 ] loss = 226.44491\n",
      "[ Train | 611/1000 ] loss = 49.59139\n",
      "[ Valid | 611/1000 ] loss = 224.79005\n",
      "[ Train | 621/1000 ] loss = 49.44602\n",
      "[ Valid | 621/1000 ] loss = 225.30046\n",
      "[ Train | 631/1000 ] loss = 48.32874\n",
      "[ Valid | 631/1000 ] loss = 240.02226\n",
      "[ Train | 641/1000 ] loss = 48.49864\n",
      "[ Valid | 641/1000 ] loss = 227.40645\n",
      "[ Train | 651/1000 ] loss = 48.26527\n",
      "[ Valid | 651/1000 ] loss = 228.81980\n",
      "[ Train | 661/1000 ] loss = 49.53135\n",
      "[ Valid | 661/1000 ] loss = 241.56169\n",
      "[ Train | 671/1000 ] loss = 49.71617\n",
      "[ Valid | 671/1000 ] loss = 230.68717\n",
      "[ Train | 681/1000 ] loss = 48.14848\n",
      "[ Valid | 681/1000 ] loss = 227.67743\n",
      "[ Train | 691/1000 ] loss = 47.77625\n",
      "[ Valid | 691/1000 ] loss = 249.02483\n",
      "[ Train | 701/1000 ] loss = 47.52878\n",
      "[ Valid | 701/1000 ] loss = 221.68172\n",
      "[ Train | 711/1000 ] loss = 48.71406\n",
      "[ Valid | 711/1000 ] loss = 233.67880\n",
      "[ Train | 721/1000 ] loss = 47.12173\n",
      "[ Valid | 721/1000 ] loss = 242.94921\n",
      "[ Train | 731/1000 ] loss = 48.37312\n",
      "[ Valid | 731/1000 ] loss = 243.73914\n",
      "[ Train | 741/1000 ] loss = 48.79361\n",
      "[ Valid | 741/1000 ] loss = 227.70225\n",
      "[ Train | 751/1000 ] loss = 48.28915\n",
      "[ Valid | 751/1000 ] loss = 238.98008\n",
      "[ Train | 761/1000 ] loss = 46.69108\n",
      "[ Valid | 761/1000 ] loss = 224.13564\n",
      "[ Train | 771/1000 ] loss = 48.24433\n",
      "[ Valid | 771/1000 ] loss = 237.04795\n",
      "[ Train | 781/1000 ] loss = 45.94887\n",
      "[ Valid | 781/1000 ] loss = 237.98873\n",
      "[ Train | 791/1000 ] loss = 48.81409\n",
      "[ Valid | 791/1000 ] loss = 226.27893\n",
      "[ Train | 801/1000 ] loss = 47.86367\n",
      "[ Valid | 801/1000 ] loss = 222.83567\n",
      "[ Train | 811/1000 ] loss = 47.24765\n",
      "[ Valid | 811/1000 ] loss = 235.32923\n",
      "[ Train | 821/1000 ] loss = 47.75282\n",
      "[ Valid | 821/1000 ] loss = 221.50678\n",
      "[ Train | 831/1000 ] loss = 46.27548\n",
      "[ Valid | 831/1000 ] loss = 231.57069\n",
      "[ Train | 841/1000 ] loss = 47.90692\n",
      "[ Valid | 841/1000 ] loss = 252.16578\n",
      "[ Train | 851/1000 ] loss = 47.12446\n",
      "[ Valid | 851/1000 ] loss = 250.81160\n",
      "[ Train | 861/1000 ] loss = 46.39293\n",
      "[ Valid | 861/1000 ] loss = 240.95123\n",
      "[ Train | 871/1000 ] loss = 47.76045\n",
      "[ Valid | 871/1000 ] loss = 221.57969\n",
      "[ Train | 881/1000 ] loss = 46.67967\n",
      "[ Valid | 881/1000 ] loss = 219.53213\n",
      "[ Train | 891/1000 ] loss = 46.11382\n",
      "[ Valid | 891/1000 ] loss = 231.58601\n",
      "[ Train | 901/1000 ] loss = 47.11056\n",
      "[ Valid | 901/1000 ] loss = 217.57939\n",
      "[ Train | 911/1000 ] loss = 47.33663\n",
      "[ Valid | 911/1000 ] loss = 244.68200\n",
      "[ Train | 921/1000 ] loss = 46.28062\n",
      "[ Valid | 921/1000 ] loss = 220.12534\n",
      "[ Train | 931/1000 ] loss = 44.29860\n",
      "[ Valid | 931/1000 ] loss = 222.17769\n",
      "[ Train | 941/1000 ] loss = 46.59504\n",
      "[ Valid | 941/1000 ] loss = 219.55448\n",
      "[ Train | 951/1000 ] loss = 46.12552\n",
      "[ Valid | 951/1000 ] loss = 219.81510\n",
      "[ Train | 961/1000 ] loss = 46.03322\n",
      "[ Valid | 961/1000 ] loss = 230.77975\n",
      "[ Train | 971/1000 ] loss = 45.49952\n",
      "[ Valid | 971/1000 ] loss = 236.98010\n",
      "[ Train | 981/1000 ] loss = 67.78680\n",
      "[ Valid | 981/1000 ] loss = 222.62447\n",
      "[ Train | 991/1000 ] loss = 42.96024\n",
      "[ Valid | 991/1000 ] loss = 223.92554\n"
     ]
    }
   ],
   "source": [
    "# debug parameter\n",
    "show_taskbar = False\n",
    "show_cycle = 10\n",
    "\n",
    "model = NN(train.shape[1]).to(device)\n",
    "model.device = device\n",
    "if os.path.exists('best_weight.pth'):\n",
    "    try:\n",
    "        model.load_state_dict(torch.load('best_weight.pth'))\n",
    "    except: \n",
    "        print('The model weight does not exist!')\n",
    "\n",
    "# For the classification task, we use cross-entropy as the measurement of performance.\n",
    "criterion = nn.MSELoss()\n",
    "optimizer = torch.optim.Adam(model.parameters(), lr = 3e-5, weight_decay = 1e-5)\n",
    "\n",
    "# The number of training epochs.\n",
    "n_epochs = 1000\n",
    "best_loss = 1000.0\n",
    "train_loss_record = []\n",
    "valid_loss_record = []\n",
    "\n",
    "for epoch in range(n_epochs):\n",
    "    model.train()\n",
    "    train_loss = []\n",
    "    train_accs = []\n",
    "    \n",
    "    if show_taskbar == True:\n",
    "        train_loader = tqdm(train_loader)\n",
    "        val_loader = tqdm(val_loader)\n",
    "    \n",
    "    # Iterate the training set by batches.\n",
    "    for batch in train_loader:\n",
    "        imgs, labels = batch\n",
    "        logits = model(imgs.to(device))\n",
    "        loss = criterion(torch.squeeze(logits), labels.to(device))\n",
    "\n",
    "        # Gradients stored in the parameters in the previous step should be cleared out first.\n",
    "        optimizer.zero_grad()\n",
    "        # Compute the gradients for parameters.\n",
    "        loss.backward()\n",
    "        grad_norm = nn.utils.clip_grad_norm_(model.parameters(), max_norm=10)\n",
    "        optimizer.step()\n",
    "\n",
    "        # Record the loss and accuracy.\n",
    "        train_loss.append(loss.item())\n",
    "\n",
    "    # The average loss and accuracy of the training set is the average of the recorded values.\n",
    "    train_loss = sum(train_loss) / len(train_loss)\n",
    "    train_loss_record.append(train_loss)\n",
    "\n",
    "    # ---------- Validation ----------\n",
    "    # Make sure the model is in eval mode so that some modules like dropout are disabled and work normally.\n",
    "    model.eval()\n",
    "\n",
    "    valid_loss = []\n",
    "\n",
    "    # Iterate the validation set by batches.\n",
    "    for batch in val_loader:\n",
    "        imgs, labels = batch\n",
    "        with torch.no_grad():\n",
    "            logits = model(imgs.to(device))\n",
    "        loss = criterion(torch.squeeze(logits), labels.to(device))\n",
    "        valid_loss.append(loss.item())\n",
    "\n",
    "    # The average loss and accuracy for entire validation set is the average of the recorded values.\n",
    "    valid_loss = sum(valid_loss) / len(valid_loss)\n",
    "    valid_loss_record.append(valid_loss)\n",
    "    \n",
    "    if valid_loss < best_loss:\n",
    "        print(\"best loss updated!\")\n",
    "        print(valid_loss, best_loss)\n",
    "        best_model = model\n",
    "        best_loss = valid_loss\n",
    "        torch.save(model.state_dict(), \"best_weight.pth\")\n",
    "        \n",
    "    if epoch % show_cycle == 0:\n",
    "        # Print the information.\n",
    "        print(f\"[ Train | {epoch + 1:03d}/{n_epochs:03d} ] loss = {train_loss:.5f}\")\n",
    "        print(f\"[ Valid | {epoch + 1:03d}/{n_epochs:03d} ] loss = {valid_loss:.5f}\")"
   ]
  },
  {
   "cell_type": "code",
   "execution_count": 19,
   "metadata": {},
   "outputs": [
    {
     "name": "stdout",
     "output_type": "stream",
     "text": [
      "205.19659805297852\n"
     ]
    }
   ],
   "source": [
    "print(best_loss)"
   ]
  },
  {
   "cell_type": "markdown",
   "metadata": {
    "id": "1Hi7jTn3PX-m"
   },
   "source": [
    "## Testing"
   ]
  },
  {
   "cell_type": "markdown",
   "metadata": {
    "id": "NfUECMFCn5VG"
   },
   "source": [
    "Create a testing dataset, and load model from the saved checkpoint."
   ]
  },
  {
   "cell_type": "code",
   "execution_count": 17,
   "metadata": {
    "id": "1PKjtAScPWtr"
   },
   "outputs": [
    {
     "name": "stderr",
     "output_type": "stream",
     "text": [
      "C:\\Users\\terry\\AppData\\Local\\Temp/ipykernel_10308/604575324.py:8: DeprecationWarning: `np.float` is a deprecated alias for the builtin `float`. To silence this warning, use `float` by itself. Doing this will not modify any behavior and is safe. If you specifically wanted the numpy scalar type, use `np.float64` here.\n",
      "Deprecated in NumPy 1.20; for more details and guidance: https://numpy.org/devdocs/release/1.20.0-notes.html#deprecations\n",
      "  y = y.astype(np.float)\n"
     ]
    }
   ],
   "source": [
    "# create testing dataset\n",
    "test_set = DrugDataset(val_x, val_y)\n",
    "test_loader = DataLoader(test_set, batch_size=BATCH_SIZE, shuffle=False)"
   ]
  },
  {
   "cell_type": "markdown",
   "metadata": {
    "id": "940TtCCdoYd0"
   },
   "source": [
    "Make prediction and output the result."
   ]
  },
  {
   "cell_type": "code",
   "execution_count": 26,
   "metadata": {
    "id": "84HU5GGjPqR0",
    "scrolled": false
   },
   "outputs": [
    {
     "name": "stderr",
     "output_type": "stream",
     "text": [
      "100%|███████████████████████████████████████████████████████████████████████████████████| 5/5 [00:00<00:00, 113.54it/s]"
     ]
    },
    {
     "name": "stdout",
     "output_type": "stream",
     "text": [
      "answers:  [6, 6, 8, 7, 6, 2, 4, 6, 6, 6, 7, 6, 6, 6, 5, 5, 5, 6, 6, 4, 4, 12, 20, 5, 5, 8, 7, 3, 3, 5, 7, 8, 0, 3, 4, 4, 6, 3, 2, 3, 2, 12, 6, 0, 7, 9, 3, 6, 4, 3, 4, 5, 7, 6, 4, 5, 6, 5, 6, 3, 0, 5, 8, 3, 6, 18, 6, 6, 4, 0, 0, 3, 6, 3, 3, 4, 3, 4, 4, 6, 7, 6, 3, 2, 1, 6, 6, 1, 3, 11, 2, 7, 2, 5, 6, 2, 6, 1, 2, 2, 5, 2, 5, 6, 2, 2, 6, 1, 2, 6, 6, 4, 2, 5, 5, 4, 4, 2, 6, 6, 5, 2, 6, 6, 3, 6, 4, 6, 7, 2, 0, 6, 0, 2, 5, 5, 2, 6, 5, 2, 6, 3, 3, 6, 2, 2, 6, 6, 6, 3, 0, 6, 6, 6, 6, 3, 2, 6, 1, 6, 5, 2, 4, 6, 6, 3, 4, 4, 4, 5, 5, 4, 4, 4, 4, 1, 3, 5, 2, 3, 18, 6, 1, 4, 2, 2, 4, 6, 3, 6, 5, 3, 6, 4, 4, 5, 6, 6, 4, 5, 4, 3, 5, 5, 5, 6, 3, 1, 1, 6, 6, 4, 3, 2, 2, 4, 3, 4, 2, 6, 3, 3, 3, 6, 6, 3, 4, 6, 6, 2, 6, 2, 2, 2, 3, 4, 2, 2, 3, 6, 2, 6, 4, 0, 19, 2, 4, 2, 5, 6, 6, 3, 3, 2, 6, 3, 3, 3, 3, 3, 2, 3, 1, 2, 6, 3, 3, 2, 4, 3, 1, 1, 3, 3, 3, 3, 3, 4, 5, 5, 3, 0, 4, 6, 4, 2, 2, 6, 1, 0, 4, 2, 6, 6, 6, 6, 6, 3, 2, 4, 3, 4, 3, 5, 4, 4, 6, 0, 0, 6, 0, 3, 4, 0, 2, 4, 2, 2, 6, 2, 0, 15, 15, 6, 16, 6, 7, 6, 7, 9, 3, 6, 6, 7, 4, 24, 8, 3, 5, 5, 6, 7, 8, 8, 2, 8, 3, 9, 8, 6, 10, 4, 6, 9, 6, 6, 6, 6, 5, 6, 8, 7, 5, 5, 16, 8, 8, 7, 3, 6, 12, 11, 6, 8, 16, 8, 8, 3, 7, 3, 7, 6, 6, 9, 0, 10, 28, 3, 16, 6, 8, 7, 6, 6, 14, 16, 4, 30, 9, 6, 12, 6, 8, 6, 7, 6, 3, 10, 4, 5, 22, 6, 0, 10, 32, 6, 8, 6, 30, 6, 6, 6, 6, 12, 0, 4, 6, 6, 6, 6, 0, 6, 6, 4, 18, 14, 4, 6, 6, 6, 8, 6, 0, 6, 11, 0, 6, 4, 9, 6, 6, 18, 6, 12, 26, 10, 6, 3, 3, 4, 5, 7, 8, 6, 6, 4, 7, 6, 8, 11, 5, 6, 26, 8, 12, 10, 12, 5, 9, 5, 5, 6, 5, 7, 8, 2, 6, 9, 9, 6, 5, 6, 8, 16, 8, 4, 6, 3, 3, 6, 9, 5, 5, 7, 6, 11, 4, 3, 6, 7, 5, 5, 6, 4, 4, 6, 5, 6, 3, 7, 11, 6, 6, 0, 42, 6, 9, 9, 7, 9, 8, 9, 11, 11, 10, 20, 6, 5, 8, 6, 6, 6, 9, 5, 6, 9, 8, 2, 2, 9, 11, 8, 4, 7, 8, 7, 5, 7, 5, 12, 9, 9, 10, 6, 6, 3, 8, 8, 9, 11, 7, 8, 7, 6, 7, 5, 3, 4, 20, 6, 11, 10, 7, 5, 10, 8, 10, 6, 8, 3, 8, 5, 6, 5, 3, 8, 6, 5, 10, 9, 6, 6, 9, 6, 6, 6, 3, 12, 6, 9, 4, 6, 3, 6, 6, 6, 7, 5, 6, 6, 6, 6, 30, 3, 6, 14, 10, 6, 5, 3, 4, 7, 8, 7, 9, 6, 12, 9, 7, 8, 6, 4, 4, 6, 5, 9, 10, 7, 0, 6, 7, 5, 6, 9, 14, 14, 5, 8, 4, 7, 8, 8, 17, 17, 6, 26, 20, 20, 20, 3, 3, 0, 26, 4, 0, 7, 8, 4, 0, 0, 8, 2, 8, 0, 2, 8, 0, 2, 4, 3, 2, 4, 3, 3, 3, 0, 2, 4, 2, 2, 3, 6, 4, 2, 0, 2, 2, 2, 2, 2, 3, 3, 4, 2, 2, 5, 4, 2, 4, 4, 2, 4, 4, 4, 5, 2, 2, 2, 3, 2, 4, 4, 0, 2, 5, 4, 3, 6, 4, 2, 2, 2, 2, 2, 6, 2, 0, 5, 2, 2, 5, 2, 2, 5, 4, 0, 5, 3, 6, 0, 4, 6, 2, 2, 2, 6, 3, 2, 2, 2, 3, 3, 5, 2, 5, 4, 4, 5, 5, 5, 4, 4, 0, 5, 2, 4, 3, 2, 4, 2, 2, 6, 5, 5, 3, 5, 2, 6, 3, 3, 4, 4, 3, 3, 2, 4, 2, 4, 6, 3, 4, 2, 2, 4, 4, 6, 5, 3, 2, 5, 2, 2, 3, 6, 2, 0, 3, 4, 4, 3, 6, 2, 6, 6, 2, 5, 0, 4, 5, 4, 2, 2, 2, 5, 3, 6, 3, 4, 3, 5, 4, 2, 3, 6, 0, 6, 5, 4, 2, 5, 4, 5, 4, 3, 4, 3, 3, 3, 2, 2, 3, 2, 4, 2, 3, 0, 4, 2, 2, 5, 3, 3, 3, 2, 4, 2, 0, 3, 0, 4, 2, 5, 5, 6, 3, 2, 2, 0, 3, 3, 3, 4, 3, 1, 4, 2, 3, 6, 4, 2, 3, 2, 4, 3, 6, 2, 2, 5, 3, 2, 4, 2, 2, 3, 3, 2, 0, 3, 4, 2, 4, 2, 2, 5, 4, 6, 6, 6, 5, 4, 3, 2, 4, 2, 5, 2, 3, 4, 4, 2, 6, 4, 2, 2, 2, 2, 5, 6, 4, 3, 2, 4, 0, 2, 3, 3, 3, 6, 2, 0, 3, 4, 2, 2, 6, 3, 6, 2, 3, 2, 4, 2, 2, 2, 2, 4, 2, 4, 4, 3, 3, 0, 2, 2, 3, 2, 2, 3, 5, 3, 2, 5, 2, 2, 0, 6, 0, 6, 4, 5, 5, 3, 5, 2, 2, 6, 4, 5, 2, 2, 5, 2, 2, 3, 5, 2, 3, 4, 2, 6, 2, 5, 0, 2, 5, 6, 3, 3, 3, 3, 6, 2, 3, 2, 3, 2, 2, 3, 4, 0, 3, 4, 2, 6, 2, 2, 2, 2, 4, 2, 4, 2, 6, 4, 2, 2, 2, 3, 3, 6, 4, 2, 3, 3, 2, 6, 3, 2, 6, 5, 3, 0, 6, 3, 2, 2, 2, 4, 2, 3, 2, 4, 4, 6, 3, 6, 3, 3, 2, 4, 2, 5, 6, 4, 2, 6, 3, 3, 3, 5, 2, 2, 3, 2, 0, 4, 4, 2, 0, 2, 6, 2, 4, 6, 2, 4, 4, 2, 6, 2, 6, 2, 4, 5, 3, 5, 2, 4, 2, 2, 5, 4, 5, 6, 2, 4, 2, 5, 5, 3, 3, 5, 5, 4, 2, 5, 4, 2, 6, 6, 5, 2, 3, 2, 4, 3, 4, 2, 6, 2, 2, 2, 4, 6, 4, 4, 4, 3, 4, 6, 5, 3, 2, 2, 6, 6, 0, 6, 2, 5, 4, 6, 2, 4, 5, 6, 3, 5, 2, 4, 2, 4, 6, 5, 4, 4, 5, 3, 3, 4, 2, 3, 6, 6, 3, 5, 3, 3, 2, 2, 6, 6, 2, 2, 6, 6, 3, 5, 4, 2, 3, 4, 4, 2, 5, 4, 3, 6, 3, 2, 0, 6, 3, 3, 3, 4, 3, 3, 2, 2, 3, 2, 0, 4, 2, 3, 6, 2, 4, 6, 3, 3, 1, 2, 5, 2, 3, 2, 2, 4, 4, 6, 4, 6, 6, 3, 4, 3, 2, 6, 6, 3, 2, 5, 2, 3, 3, 4, 3, 4, 4, 2, 2, 3, 6, 5, 4, 5, 4, 0, 60, 52, 3, 6, 0, 4, 4, 4, 3, 0, 8, 0, 204, 24, 34, 24, 34, 3, 21, 24, 36, 24, 6, 24, 48, 26, 42, 16, 0, 21, 22, 44, 0, 42, 20, 24, 58, 22, 48, 54, 24, 60, 21, 46, 114, 23, 120, 204, 20, 66, 21, 22, 42, 21, 48, 46, 30, 48, 48, 82, 22, 6, 22, 24, 12, 54, 8, 8, 36, 22, 44, 24, 22, 22, 21, 22, 182, 0, 54, 44, 42, 2, 20, 52, 22, 24, 12, 42, 22, 24, 7, 30, 24, 14, 22, 112, 0, 72, 20, 60, 64, 26, 24, 21, 48, 27, 22, 48, 24, 24, 54, 22, 24, 90, 24, 60, 26, 24, 30, 24, 6, 22, 22, 18, 4, 0, 7, 21, 24, 122, 72, 18, 90, 28, 46, 22, 24, 24, 8, 120, 66, 24, 45, 24, 20, 24, 22, 21, 5, 192, 46, 24, 0, 24, 58, 32, 21, 43, 28, 46, 24, 24, 36, 28, 138, 19, 30, 44, 132, 44, 30, 136, 0, 24, 48, 43, 25, 90, 108, 182, 78, 74, 0, 0, 0, 43, 0, 6, 6, 6, 5, 4, 5, 5, 6, 5, 3, 4, 3, 46, 6, 10, 3, 0, 10, 8, 3, 14, 7, 4, 2, 8, 5, 6, 4, 3, 5, 6, 3, 6, 0, 2, 2, 4, 4, 5, 6, 14, 2, 3, 5, 5, 4, 6, 6, 3, 4, 4, 6, 6, 3, 6, 2, 5, 6, 5, 4, 4, 0, 0, 74, 23, 0, 0, 6, 90, 8, 0, 8, 74, 46, 0, 190, 0, 0, 13, 74, 11, 53, 24, 7, 8, 0, 53, 21, 9, 36, 10, 27, 113, 0, 3, 190, 9, 24, 0, 10, 53, 24, 102, 42, 96, 48, 7, 43, 27, 54, 11, 6, 26, 54, 2, 34, 10, 38, 10, 7, 12, 8, 7, 54, 0, 0, 98, 52, 93, 8, 11, 10, 9, 22, 8, 5, 9, 8, 9, 10, 9, 23, 14, 99, 190, 7, 24, 4, 2, 3, 5, 6, 2, 5, 6, 6, 2, 6, 3, 5, 5, 3, 5, 5, 3, 2, 6, 5, 5, 5, 3, 6, 5, 3, 3, 5, 0, 3, 3, 2, 3, 2, 2, 2, 2, 2, 2, 2, 3, 2, 3, 1, 2, 6, 3, 3, 6, 3, 3, 3, 5, 5, 8, 3, 5, 5, 5, 2, 8, 46, 7, 7, 7, 7, 7, 4, 6, 6, 4, 6, 6, 6, 6, 3, 7, 8, 0, 4, 3, 6, 5, 6, 6, 3, 4, 3, 12, 6, 6, 4, 4, 3, 6, 7, 7, 7, 3, 0, 3, 0, 0, 0, 6, 2, 0, 3, 7, 6, 6, 5, 7, 3, 5, 5, 3, 4, 5, 4, 3, 5, 4, 2, 4, 3, 6, 2, 2, 3, 3, 3, 3, 3, 6, 5, 4, 3, 2, 2, 2, 5, 6, 3, 6, 6, 3, 6, 6, 3, 3, 4, 6, 4, 6, 6, 5, 6, 6, 3, 2, 3, 3, 3, 3, 4, 9, 0, 6, 2, 4, 5, 5, 2, 6, 6, 2, 3, 3, 3, 6, 4, 6, 5, 5, 4, 6, 5, 5, 3, 4, 4, 6, 6, 6, 3, 5, 6, 5, 3, 5, 4, 4, 4, 4, 3, 6, 4, 3, 4, 3, 3, 2, 4, 0, 4, 3, 5, 4, 0, 5, 5, 6, 4, 4, 6, 4, 4, 5, 6, 5, 2, 4, 5, 4, 6, 5, 6, 3, 4, 6, 6, 2, 5, 38, 9, 10, 93, 9, 0, 8, 6, 8, 12, 22, 114, 48, 7, 7, 0, 22, 8, 7, 102, 126, 7, 10, 10, 10, 7, 10, 9, 20, 190, 72, 11, 3, 9, 6, 4, 9, 58, 18, 9, 6, 20, 10, 24, 0, 18, 8, 7, 44, 48, 8, 7, 24, 52, 50, 18, 9, 0, 45, 8, 11, 48, 14, 18, 64, 13, 7, 30, 100, 8, 8, 11, 108, 108, 5, 6, 7, 10, 6, 8, 50, 10, 8, 9, 10, 24, 7, 23, 12, 11, 0, 5, 8, 6, 8, 8, 9, 9, 7, 10, 42, 6, 24, 8, 96, 0, 27, 2, 86, 9, 7, 9, 12, 10, 11, 10, 7, 78, 8, 8, 12, 8, 8, 6, 3, 5, 78, 12, 197, 0, 24, 118, 9, 24, 0, 0, 0, 10, 64, 0, 54, 0, 11, 8, 20, 75, 0, 8, 0, 30, 10, 0, 0, 0, 86, 4, 92, 22, 7, 46, 0, 48, 11, 3, 9, 6, 9, 6, 8, 12, 8, 9, 24, 10, 6, 7, 6, 8, 3, 9, 0, 6, 10, 0, 0, 0, 0, 0, 0, 0, 0, 0, 0, 0, 0, 0, 0, 0, 0, 0, 0, 0, 0, 0, 0, 0, 0, 0, 0, 0, 0, 0, 0, 0, 0, 0, 0, 0, 0, 0, 0, 0, 0, 0, 0, 0, 0, 0, 0, 0, 0, 0, 0, 0, 0, 0, 0, 0, 0, 0, 0, 0, 0, 0, 0, 0, 0, 0, 0, 0, 0, 0, 0, 0, 0, 0, 0, 0, 0, 0, 0, 0, 0, 0, 0, 0, 0, 0, 0, 0, 0, 0, 0, 0, 0, 0, 0, 0, 0, 0, 0, 0, 0, 0, 0, 0, 0, 0, 0, 0, 0, 0, 0, 0, 0, 0, 0, 0, 0, 0, 0, 0, 0, 0, 0, 0, 0, 0, 0, 0, 0, 0, 0, 0, 0, 0, 0, 0, 0, 0, 0, 0, 0, 0, 0, 0, 0, 0, 0, 0, 0, 0, 0, 0, 0, 0, 0, 0, 0, 0, 0, 0, 0, 0, 0, 0, 0, 0, 0, 0, 0, 0, 0, 0, 0, 0, 0, 0, 0, 0, 0, 0, 0, 0, 0, 0, 0, 0, 0, 0, 0, 0, 0, 0, 0, 0, 0, 0, 0, 0, 0, 0, 0, 0, 0, 0, 0, 0, 0, 0, 0, 0, 0, 0, 0, 0, 0, 0, 0, 0, 0, 0, 0, 0, 0, 0, 0, 0, 0, 0, 0, 0, 0, 0, 0, 0, 0, 0, 0, 0, 0, 0, 0, 0, 0, 0, 0, 0, 0, 0, 0, 0, 0]\n",
      "predict:  [5, 6, 3, 5, 5, 1, 4, 6, 5, 4, 3, 4, 0, 3, 6, 6, 6, 4, 6, 5, 4, 8, 15, 5, 8, 4, 5, 5, 9, 4, 4, 2, 2, 0, 3, 5, 7, 1, 9, 9, 2, 14, 6, 0, 6, 5, 9, 5, 9, 5, 0, 5, 4, 1, 9, 9, 3, 4, 12, 6, 0, 6, 3, 3, 9, 7, 8, 5, 3, 0, 0, 0, 8, 3, 5, 0, 2, 7, 5, 8, 8, 7, 8, 8, 0, 5, 6, 13, 6, 9, 2, 2, 2, 4, 5, 9, 4, 13, 3, 14, 5, 4, 5, 5, 2, 0, 9, 2, 4, 6, 8, 6, 8, 8, 6, 4, 4, 2, 0, 0, 2, 2, 6, 7, 4, 3, 11, 8, 8, 2, 0, 12, 0, 9, 3, 1, 4, 4, 5, 4, 0, 4, 3, 3, 2, 0, 4, 2, 5, 4, 0, 5, 6, 5, 1, 4, 3, 10, 7, 8, 4, 4, 0, 7, 4, 2, 3, 5, 4, 1, 2, 7, 4, 8, 6, 2, 3, 2, 0, 4, 4, 6, 10, 5, 5, 5, 3, 5, 4, 4, 4, 4, 4, 1, 4, 0, 6, 3, 4, 5, 5, 5, 3, 4, 4, 4, 2, 7, 9, 2, 3, 1, 1, 4, 2, 1, 4, 2, 1, 4, 4, 0, 0, 11, 9, 5, 3, 6, 6, 3, 6, 3, 2, 11, 4, 3, 3, 3, 13, 2, 2, 3, 4, 0, 8, 5, 2, 6, 4, 7, 4, 4, 3, 3, 4, 3, 9, 3, 3, 2, 3, 4, 1, 0, 4, 0, 2, 2, 1, 4, 3, 14, 5, 4, 2, 3, 1, 9, 3, 3, 4, 0, 3, 6, 7, 4, 9, 7, 5, 6, 4, 11, 6, 7, 0, 7, 8, 3, 4, 1, 10, 5, 5, 4, 8, 7, 4, 1, 0, 5, 0, 4, 4, 0, 6, 6, 4, 3, 4, 13, 2, 7, 7, 17, 12, 9, 10, 8, 11, 6, 9, 9, 4, 9, 6, 13, 9, 12, 7, 10, 5, 7, 4, 5, 14, 9, 7, 7, 16, 7, 21, 3, 4, 7, 6, 5, 13, 5, 11, 8, 7, 9, 21, 8, 25, 6, 10, 7, 9, 6, 8, 8, 7, 14, 11, 2, 7, 7, 5, 7, 8, 9, 7, 10, 6, 16, 4, 30, 9, 4, 10, 4, 4, 5, 14, 14, 3, 13, 9, 8, 7, 4, 14, 6, 6, 9, 8, 8, 10, 6, 10, 6, 9, 8, 28, 6, 7, 9, 11, 10, 4, 11, 6, 8, 7, 7, 7, 9, 4, 7, 8, 22, 6, 8, 5, 13, 7, 10, 9, 6, 0, 6, 4, 15, 8, 10, 20, 8, 7, 8, 9, 8, 7, 7, 7, 6, 3, 8, 11, 9, 5, 8, 5, 9, 6, 4, 8, 9, 9, 8, 9, 4, 13, 12, 3, 6, 7, 5, 7, 3, 7, 6, 18, 7, 9, 7, 6, 7, 7, 7, 8, 4, 11, 14, 8, 6, 7, 5, 6, 13, 9, 9, 5, 8, 5, 7, 8, 0, 8, 9, 7, 18, 6, 19, 9, 5, 6, 7, 4, 7, 8, 9, 5, 6, 17, 7, 6, 9, 8, 7, 8, 7, 8, 12, 9, 15, 5, 9, 7, 9, 7, 9, 7, 0, 6, 6, 6, 7, 6, 9, 1, 9, 7, 4, 8, 9, 4, 6, 9, 9, 10, 8, 4, 11, 7, 8, 4, 7, 5, 8, 9, 12, 9, 4, 7, 7, 7, 8, 13, 9, 9, 5, 9, 5, 8, 8, 11, 7, 6, 3, 7, 7, 5, 3, 4, 9, 6, 6, 8, 9, 7, 6, 11, 5, 6, 9, 6, 8, 5, 21, 6, 7, 6, 8, 7, 8, 6, 9, 5, 8, 10, 4, 10, 12, 5, 15, 10, 1, 9, 5, 9, 9, 8, 9, 3, 7, 2, 11, 8, 6, 3, 9, 9, 5, 6, 9, 11, 8, 4, 5, 6, 6, 6, 9, 18, 15, 6, 9, 5, 7, 9, 11, 6, 8, 6, 9, 11, 9, 12, 2, 3, 7, 8, 9, 3, 5, 9, 3, 1, 0, 7, 6, 6, 0, 4, 7, 3, 2, 4, 3, 4, 5, 2, 3, 2, 0, 2, 4, 5, 2, 6, 3, 4, 2, 0, 1, 3, 2, 1, 3, 4, 1, 4, 2, 2, 6, 6, 2, 6, 5, 5, 5, 6, 1, 3, 4, 2, 3, 2, 3, 4, 4, 1, 3, 4, 3, 1, 3, 2, 4, 2, 1, 3, 5, 3, 4, 0, 4, 1, 4, 6, 3, 4, 4, 7, 0, 4, 1, 5, 0, 4, 2, 1, 2, 2, 3, 5, 0, 2, 2, 4, 1, 1, 2, 4, 4, 3, 2, 4, 3, 2, 2, 0, 3, 1, 4, 4, 3, 3, 2, 3, 6, 4, 3, 0, 3, 3, 7, 3, 2, 3, 3, 2, 4, 2, 3, 2, 3, 3, 3, 3, 2, 3, 3, 2, 3, 7, 1, 4, 1, 3, 2, 1, 3, 2, 0, 1, 1, 4, 1, 3, 2, 3, 4, 4, 4, 0, 4, 5, 3, 2, 2, 0, 2, 4, 3, 4, 2, 3, 3, 1, 4, 1, 5, 0, 4, 3, 3, 2, 3, 5, 4, 5, 3, 5, 2, 6, 3, 2, 2, 6, 1, 1, 4, 1, 0, 3, 2, 3, 3, 2, 5, 5, 0, 3, 2, 0, 4, 0, 3, 1, 3, 3, 4, 4, 2, 2, 0, 6, 1, 3, 4, 0, 3, 5, 1, 4, 4, 4, 5, 2, 3, 2, 5, 4, 1, 2, 5, 3, 0, 0, 3, 2, 3, 2, 0, 0, 3, 4, 3, 3, 2, 4, 0, 4, 1, 3, 4, 5, 3, 3, 2, 5, 4, 5, 2, 4, 4, 7, 2, 4, 2, 3, 4, 6, 2, 2, 4, 5, 3, 3, 4, 0, 2, 7, 3, 3, 3, 1, 0, 4, 2, 9, 2, 3, 1, 5, 2, 6, 3, 4, 3, 5, 2, 0, 6, 2, 3, 1, 7, 4, 2, 3, 4, 6, 1, 4, 2, 6, 3, 4, 1, 1, 4, 0, 9, 0, 3, 1, 4, 5, 3, 5, 6, 2, 4, 5, 5, 0, 0, 1, 3, 2, 8, 9, 3, 7, 3, 0, 4, 0, 3, 0, 0, 6, 3, 4, 0, 4, 3, 4, 3, 1, 2, 5, 1, 2, 1, 0, 0, 3, 3, 3, 2, 1, 4, 0, 4, 3, 4, 2, 4, 3, 4, 2, 2, 0, 3, 0, 5, 3, 2, 3, 5, 3, 4, 0, 0, 9, 5, 3, 0, 6, 3, 3, 4, 2, 4, 7, 2, 3, 1, 3, 4, 5, 5, 3, 0, 3, 3, 3, 3, 7, 3, 4, 2, 0, 3, 1, 3, 2, 0, 10, 2, 0, 3, 3, 3, 0, 1, 4, 2, 3, 4, 2, 3, 3, 4, 4, 0, 5, 0, 4, 7, 3, 5, 2, 3, 3, 2, 4, 3, 3, 4, 4, 3, 2, 7, 3, 3, 2, 4, 3, 3, 2, 4, 1, 1, 1, 4, 4, 1, 3, 2, 3, 4, 3, 2, 6, 2, 1, 1, 1, 6, 4, 7, 3, 5, 2, 3, 3, 0, 1, 0, 2, 5, 0, 3, 1, 3, 2, 5, 3, 2, 4, 5, 5, 3, 1, 3, 3, 0, 6, 4, 2, 3, 1, 3, 3, 5, 2, 1, 6, 3, 3, 5, 0, 4, 1, 4, 5, 4, 6, 2, 4, 3, 4, 3, 6, 2, 4, 4, 4, 2, 2, 3, 1, 8, 5, 4, 0, 2, 2, 3, 2, 3, 3, 3, 2, 2, 5, 3, 0, 5, 2, 3, 5, 2, 2, 3, 2, 1, 3, 4, 4, 3, 4, 4, 3, 3, 1, 3, 3, 4, 2, 1, 4, 2, 0, 3, 3, 3, 2, 2, 2, 3, 3, 3, 6, 4, 3, 2, 2, 3, 4, 0, 2, 4, 1, 0, 61, 72, 2, 5, 6, 8, 0, 2, 4, 6, 5, 0, 123, 24, 28, 41, 23, 26, 10, 26, 15, 20, 10, 16, 32, 25, 30, 18, 47, 24, 30, 53, 12, 14, 16, 16, 54, 16, 60, 33, 53, 79, 11, 34, 59, 25, 51, 39, 16, 35, 25, 18, 24, 9, 25, 46, 35, 11, 18, 43, 15, 0, 38, 55, 27, 33, 9, 8, 11, 31, 20, 25, 13, 22, 35, 20, 118, 9, 43, 27, 46, 22, 17, 13, 20, 26, 18, 50, 20, 21, 15, 36, 28, 16, 22, 158, 5, 28, 26, 56, 43, 47, 46, 36, 19, 4, 21, 44, 23, 40, 32, 19, 16, 70, 14, 20, 30, 43, 26, 16, 84, 52, 30, 21, 7, 41, 5, 15, 24, 67, 32, 8, 97, 19, 23, 20, 14, 30, 3, 104, 20, 26, 52, 24, 16, 14, 17, 45, 22, 113, 44, 15, 47, 18, 31, 22, 18, 25, 24, 38, 17, 20, 47, 31, 75, 14, 14, 46, 53, 20, 31, 6, 11, 3, 24, 47, 43, 45, 46, 73, 27, 43, 43, 108, 26, 22, 32, 5, 2, 2, 2, 4, 3, 9, 5, 4, 2, 5, 4, 29, 0, 3, 4, 8, 3, 2, 5, 3, 5, 2, 4, 7, 2, 3, 4, 4, 4, 2, 0, 3, 0, 4, 5, 2, 0, 4, 3, 11, 3, 0, 3, 6, 3, 9, 3, 6, 2, 0, 6, 2, 2, 3, 2, 6, 4, 2, 4, 8, 41, 62, 37, 35, 12, 20, 6, 80, 15, 2, 0, 37, 60, 0, 100, 6, 11, 3, 39, 12, 28, 51, 11, 12, 9, 92, 18, 27, 68, 8, 10, 105, 1, 7, 79, 7, 47, 29, 12, 90, 16, 57, 32, 79, 20, 12, 38, 9, 73, 12, 7, 14, 83, 39, 3, 13, 6, 3, 13, 10, 9, 3, 89, 55, 60, 68, 10, 69, 5, 11, 12, 11, 19, 8, 0, 10, 5, 11, 2, 9, 54, 8, 86, 98, 5, 26, 5, 1, 1, 3, 4, 9, 4, 5, 5, 4, 2, 2, 5, 3, 7, 3, 5, 5, 3, 5, 8, 4, 2, 6, 6, 2, 2, 3, 2, 0, 11, 3, 0, 0, 1, 0, 0, 3, 0, 0, 3, 3, 3, 5, 3, 3, 2, 2, 6, 6, 3, 2, 3, 4, 1, 1, 4, 3, 5, 4, 8, 2, 27, 4, 17, 5, 9, 3, 1, 7, 4, 3, 6, 7, 5, 14, 3, 5, 5, 1, 9, 4, 5, 6, 8, 0, 2, 3, 3, 5, 9, 2, 3, 5, 4, 6, 5, 4, 3, 17, 10, 4, 2, 0, 0, 3, 0, 3, 2, 1, 4, 4, 4, 6, 5, 3, 3, 1, 2, 4, 3, 4, 3, 1, 4, 3, 4, 9, 2, 2, 3, 3, 0, 3, 6, 4, 4, 0, 1, 1, 5, 3, 3, 5, 4, 5, 6, 6, 2, 3, 3, 5, 5, 2, 4, 7, 2, 0, 3, 6, 5, 4, 1, 0, 4, 3, 3, 6, 0, 3, 3, 2, 3, 3, 1, 3, 4, 3, 4, 2, 4, 3, 0, 1, 2, 3, 2, 3, 3, 3, 2, 3, 1, 3, 4, 4, 3, 3, 3, 3, 2, 3, 3, 3, 2, 4, 1, 4, 2, 2, 4, 4, 4, 0, 3, 0, 0, 1, 2, 3, 0, 3, 3, 4, 2, 7, 4, 4, 4, 2, 4, 8, 0, 3, 3, 2, 4, 5, 3, 3, 3, 5, 4, 0, 3, 15, 4, 13, 53, 10, 9, 5, 14, 10, 0, 10, 62, 51, 13, 6, 40, 19, 6, 11, 101, 62, 8, 5, 10, 9, 21, 9, 10, 7, 93, 15, 6, 5, 7, 3, 0, 4, 0, 8, 9, 8, 8, 8, 37, 0, 6, 8, 7, 70, 19, 8, 5, 4, 77, 67, 6, 7, 7, 31, 6, 15, 76, 21, 9, 44, 6, 8, 28, 119, 7, 6, 2, 137, 127, 9, 4, 6, 8, 7, 4, 37, 7, 7, 8, 7, 6, 7, 20, 4, 6, 31, 8, 6, 9, 7, 11, 6, 10, 4, 9, 45, 8, 28, 8, 48, 9, 7, 4, 35, 4, 5, 13, 12, 4, 7, 5, 6, 43, 5, 13, 9, 8, 2, 7, 3, 6, 23, 8, 12, 9, 29, 157, 10, 10, 11, 14, 1, 13, 57, 0, 20, 25, 7, 4, 16, 86, 13, 3, 16, 35, 12, 9, 11, 4, 30, 0, 93, 15, 2, 10, 9, 52, 15, 3, 9, 9, 9, 1, 6, 9, 4, 5, 28, 6, 6, 6, 6, 11, 0, 7, 78, 6, 9, 12, 0, 0, 14, 5, 1, 9, 10, 5, 28, 18, 8, 10, 21, 23, 0, 0, 0, 10, 16, 30, 10, 0, 12, 13, 51, 23, 10, 6, 11, 12, 0, 0, 14, 0, 0, 6, 18, 0, 6, 4, 0, 43, 3, 0, 26, 15, 29, 0, 0, 47, 13, 26, 0, 11, 11, 18, 29, 11, 15, 28, 50, 2, 0, 11, 11, 9, 6, 11, 6, 5, 19, 12, 37, 34, 0, 4, 14, 18, 6, 2, 4, 12, 12, 8, 5, 3, 13, 23, 16, 18, 1, 8, 9, 22, 2, 19, 18, 4, 17, 1, 3, 0, 9, 0, 18, 20, 0, 4, 9, 30, 9, 6, 9, 4, 24, 9, 1, 12, 12, 7, 11, 17, 9, 1, 15, 10, 33, 7, 3, 0, 10, 20, 5, 4, 11, 11, 1, 0, 15, 4, 16, 16, 12, 9, 5, 18, 2, 22, 22, 47, 29, 7, 16, 17, 5, 27, 0, 0, 10, 4, 31, 6, 15, 0, 0, 16, 1, 51, 6, 48, 0, 57, 22, 0, 15, 9, 0, 44, 19, 7, 51, 9, 29, 0, 8, 7, 1, 22, 46, 13, 5, 20, 25, 13, 17, 6, 3, 17, 67, 26, 25, 1, 40, 8, 0, 0, 0, 22, 22, 5, 39, 0, 7, 11, 0, 17, 3, 40, 13, 6, 2, 7, 0, 16, 20, 7, 10, 9, 0, 10, 4, 1, 12, 14, 17, 29, 12, 0, 24, 7, 8, 6, 0, 16, 13, 0, 71, 10, 5]\n"
     ]
    },
    {
     "name": "stderr",
     "output_type": "stream",
     "text": [
      "\n"
     ]
    },
    {
     "data": {
      "text/plain": [
       "<AxesSubplot:>"
      ]
     },
     "execution_count": 26,
     "metadata": {},
     "output_type": "execute_result"
    },
    {
     "data": {
      "image/png": "[encoded data removed]",
      "text/plain": [
       "<Figure size 432x288 with 2 Axes>"
      ]
     },
     "metadata": {
      "needs_background": "light"
     },
     "output_type": "display_data"
    }
   ],
   "source": [
    "model = NN(train.shape[1]).to(device)\n",
    "if os.path.exists('best_weight.pth'):\n",
    "    try:\n",
    "        model.load_state_dict(torch.load('best_weight.pth'))\n",
    "    except: \n",
    "        print('The model weight does not exist!')\n",
    "\n",
    "predict = []\n",
    "answers = []\n",
    "model.eval() # set the model to evaluation mode\n",
    "with torch.no_grad():\n",
    "    for batch in tqdm(test_loader):\n",
    "        imgs, labels = batch\n",
    "        with torch.no_grad():\n",
    "            logits = model(imgs.to(device))\n",
    "            guess = list(map(int, torch.squeeze(logits.cpu()).numpy().tolist()))\n",
    "            predict.extend(guess)\n",
    "            answer = list(map(int, labels.to(device).tolist()))\n",
    "            answers.extend(answer)\n",
    "#show the partial result\n",
    "print(\"answers: \", answers)    \n",
    "print(\"predict: \", predict)\n",
    "\n",
    "predict_group = list(map(lambda x: math.floor(math.log2(math.ceil(x))) if x > 0 else 0, predict))\n",
    "answers_group = list(map(lambda x: math.floor(math.log2(math.ceil(x))) if x > 0 else 0, answers))\n",
    "df_cm = metrics.confusion_matrix(predict_group, answers_group)\n",
    "df_cm = pd.DataFrame(df_cm, index = [i for i in [3, 6, 12, 24, 48, 96, 192, 384]], columns = [i for i in [3, 6, 12, 24, 48, 96, 192, 384]])\n",
    "plt.figure.Figure(figsize = (10,7))\n",
    "sn.heatmap(df_cm, annot=True, fmt=\"d\")"
   ]
  },
  {
   "cell_type": "code",
   "execution_count": 18,
   "metadata": {},
   "outputs": [
    {
     "data": {
      "image/png": "[encoded data removed]",
      "text/plain": [
       "<Figure size 432x288 with 1 Axes>"
      ]
     },
     "metadata": {
      "needs_background": "light"
     },
     "output_type": "display_data"
    }
   ],
   "source": [
    "%matplotlib inline\n",
    "\n",
    "import numpy as np\n",
    "import matplotlib.pyplot as plt\n",
    "\n",
    "x = train_loss_record\n",
    "y = valid_loss_record\n",
    "epoch = [i for i in range(1, n_epochs + 1)]\n",
    "\n",
    "plt.ylim([0, 300])\n",
    "plt.xlabel('epoch')\n",
    "plt.ylabel('loss')\n",
    "plt.title('DNN structure loss graph')\n",
    "plt.plot(epoch, x, label = 'train')\n",
    "plt.plot(epoch, y, label = 'validation')\n",
    "plt.legend()\n",
    "plt.show()"
   ]
  },
  {
   "cell_type": "code",
   "execution_count": 27,
   "metadata": {},
   "outputs": [
    {
     "name": "stdout",
     "output_type": "stream",
     "text": [
      "2312\n"
     ]
    }
   ],
   "source": [
    "print(len([6, 6, 8, 7, 6, 2, 4, 6, 6, 6, 7, 6, 6, 6, 5, 5, 5, 6, 6, 4, 4, 12, 20, 5, 5, 8, 7, 3, 3, 5, 7, 8, 0, 3, 4, 4, 6, 3, 2, 3, 2, 12, 6, 0, 7, 9, 3, 6, 4, 3, 4, 5, 7, 6, 4, 5, 6, 5, 6, 3, 0, 5, 8, 3, 6, 18, 6, 6, 4, 0, 0, 3, 6, 3, 3, 4, 3, 4, 4, 6, 7, 6, 3, 2, 1, 6, 6, 1, 3, 11, 2, 7, 2, 5, 6, 2, 6, 1, 2, 2, 5, 2, 5, 6, 2, 2, 6, 1, 2, 6, 6, 4, 2, 5, 5, 4, 4, 2, 6, 6, 5, 2, 6, 6, 3, 6, 4, 6, 7, 2, 0, 6, 0, 2, 5, 5, 2, 6, 5, 2, 6, 3, 3, 6, 2, 2, 6, 6, 6, 3, 0, 6, 6, 6, 6, 3, 2, 6, 1, 6, 5, 2, 4, 6, 6, 3, 4, 4, 4, 5, 5, 4, 4, 4, 4, 1, 3, 5, 2, 3, 18, 6, 1, 4, 2, 2, 4, 6, 3, 6, 5, 3, 6, 4, 4, 5, 6, 6, 4, 5, 4, 3, 5, 5, 5, 6, 3, 1, 1, 6, 6, 4, 3, 2, 2, 4, 3, 4, 2, 6, 3, 3, 3, 6, 6, 3, 4, 6, 6, 2, 6, 2, 2, 2, 3, 4, 2, 2, 3, 6, 2, 6, 4, 0, 19, 2, 4, 2, 5, 6, 6, 3, 3, 2, 6, 3, 3, 3, 3, 3, 2, 3, 1, 2, 6, 3, 3, 2, 4, 3, 1, 1, 3, 3, 3, 3, 3, 4, 5, 5, 3, 0, 4, 6, 4, 2, 2, 6, 1, 0, 4, 2, 6, 6, 6, 6, 6, 3, 2, 4, 3, 4, 3, 5, 4, 4, 6, 0, 0, 6, 0, 3, 4, 0, 2, 4, 2, 2, 6, 2, 0, 15, 15, 6, 16, 6, 7, 6, 7, 9, 3, 6, 6, 7, 4, 24, 8, 3, 5, 5, 6, 7, 8, 8, 2, 8, 3, 9, 8, 6, 10, 4, 6, 9, 6, 6, 6, 6, 5, 6, 8, 7, 5, 5, 16, 8, 8, 7, 3, 6, 12, 11, 6, 8, 16, 8, 8, 3, 7, 3, 7, 6, 6, 9, 0, 10, 28, 3, 16, 6, 8, 7, 6, 6, 14, 16, 4, 30, 9, 6, 12, 6, 8, 6, 7, 6, 3, 10, 4, 5, 22, 6, 0, 10, 32, 6, 8, 6, 30, 6, 6, 6, 6, 12, 0, 4, 6, 6, 6, 6, 0, 6, 6, 4, 18, 14, 4, 6, 6, 6, 8, 6, 0, 6, 11, 0, 6, 4, 9, 6, 6, 18, 6, 12, 26, 10, 6, 3, 3, 4, 5, 7, 8, 6, 6, 4, 7, 6, 8, 11, 5, 6, 26, 8, 12, 10, 12, 5, 9, 5, 5, 6, 5, 7, 8, 2, 6, 9, 9, 6, 5, 6, 8, 16, 8, 4, 6, 3, 3, 6, 9, 5, 5, 7, 6, 11, 4, 3, 6, 7, 5, 5, 6, 4, 4, 6, 5, 6, 3, 7, 11, 6, 6, 0, 42, 6, 9, 9, 7, 9, 8, 9, 11, 11, 10, 20, 6, 5, 8, 6, 6, 6, 9, 5, 6, 9, 8, 2, 2, 9, 11, 8, 4, 7, 8, 7, 5, 7, 5, 12, 9, 9, 10, 6, 6, 3, 8, 8, 9, 11, 7, 8, 7, 6, 7, 5, 3, 4, 20, 6, 11, 10, 7, 5, 10, 8, 10, 6, 8, 3, 8, 5, 6, 5, 3, 8, 6, 5, 10, 9, 6, 6, 9, 6, 6, 6, 3, 12, 6, 9, 4, 6, 3, 6, 6, 6, 7, 5, 6, 6, 6, 6, 30, 3, 6, 14, 10, 6, 5, 3, 4, 7, 8, 7, 9, 6, 12, 9, 7, 8, 6, 4, 4, 6, 5, 9, 10, 7, 0, 6, 7, 5, 6, 9, 14, 14, 5, 8, 4, 7, 8, 8, 17, 17, 6, 26, 20, 20, 20, 3, 3, 0, 26, 4, 0, 7, 8, 4, 0, 0, 8, 2, 8, 0, 2, 8, 0, 2, 4, 3, 2, 4, 3, 3, 3, 0, 2, 4, 2, 2, 3, 6, 4, 2, 0, 2, 2, 2, 2, 2, 3, 3, 4, 2, 2, 5, 4, 2, 4, 4, 2, 4, 4, 4, 5, 2, 2, 2, 3, 2, 4, 4, 0, 2, 5, 4, 3, 6, 4, 2, 2, 2, 2, 2, 6, 2, 0, 5, 2, 2, 5, 2, 2, 5, 4, 0, 5, 3, 6, 0, 4, 6, 2, 2, 2, 6, 3, 2, 2, 2, 3, 3, 5, 2, 5, 4, 4, 5, 5, 5, 4, 4, 0, 5, 2, 4, 3, 2, 4, 2, 2, 6, 5, 5, 3, 5, 2, 6, 3, 3, 4, 4, 3, 3, 2, 4, 2, 4, 6, 3, 4, 2, 2, 4, 4, 6, 5, 3, 2, 5, 2, 2, 3, 6, 2, 0, 3, 4, 4, 3, 6, 2, 6, 6, 2, 5, 0, 4, 5, 4, 2, 2, 2, 5, 3, 6, 3, 4, 3, 5, 4, 2, 3, 6, 0, 6, 5, 4, 2, 5, 4, 5, 4, 3, 4, 3, 3, 3, 2, 2, 3, 2, 4, 2, 3, 0, 4, 2, 2, 5, 3, 3, 3, 2, 4, 2, 0, 3, 0, 4, 2, 5, 5, 6, 3, 2, 2, 0, 3, 3, 3, 4, 3, 1, 4, 2, 3, 6, 4, 2, 3, 2, 4, 3, 6, 2, 2, 5, 3, 2, 4, 2, 2, 3, 3, 2, 0, 3, 4, 2, 4, 2, 2, 5, 4, 6, 6, 6, 5, 4, 3, 2, 4, 2, 5, 2, 3, 4, 4, 2, 6, 4, 2, 2, 2, 2, 5, 6, 4, 3, 2, 4, 0, 2, 3, 3, 3, 6, 2, 0, 3, 4, 2, 2, 6, 3, 6, 2, 3, 2, 4, 2, 2, 2, 2, 4, 2, 4, 4, 3, 3, 0, 2, 2, 3, 2, 2, 3, 5, 3, 2, 5, 2, 2, 0, 6, 0, 6, 4, 5, 5, 3, 5, 2, 2, 6, 4, 5, 2, 2, 5, 2, 2, 3, 5, 2, 3, 4, 2, 6, 2, 5, 0, 2, 5, 6, 3, 3, 3, 3, 6, 2, 3, 2, 3, 2, 2, 3, 4, 0, 3, 4, 2, 6, 2, 2, 2, 2, 4, 2, 4, 2, 6, 4, 2, 2, 2, 3, 3, 6, 4, 2, 3, 3, 2, 6, 3, 2, 6, 5, 3, 0, 6, 3, 2, 2, 2, 4, 2, 3, 2, 4, 4, 6, 3, 6, 3, 3, 2, 4, 2, 5, 6, 4, 2, 6, 3, 3, 3, 5, 2, 2, 3, 2, 0, 4, 4, 2, 0, 2, 6, 2, 4, 6, 2, 4, 4, 2, 6, 2, 6, 2, 4, 5, 3, 5, 2, 4, 2, 2, 5, 4, 5, 6, 2, 4, 2, 5, 5, 3, 3, 5, 5, 4, 2, 5, 4, 2, 6, 6, 5, 2, 3, 2, 4, 3, 4, 2, 6, 2, 2, 2, 4, 6, 4, 4, 4, 3, 4, 6, 5, 3, 2, 2, 6, 6, 0, 6, 2, 5, 4, 6, 2, 4, 5, 6, 3, 5, 2, 4, 2, 4, 6, 5, 4, 4, 5, 3, 3, 4, 2, 3, 6, 6, 3, 5, 3, 3, 2, 2, 6, 6, 2, 2, 6, 6, 3, 5, 4, 2, 3, 4, 4, 2, 5, 4, 3, 6, 3, 2, 0, 6, 3, 3, 3, 4, 3, 3, 2, 2, 3, 2, 0, 4, 2, 3, 6, 2, 4, 6, 3, 3, 1, 2, 5, 2, 3, 2, 2, 4, 4, 6, 4, 6, 6, 3, 4, 3, 2, 6, 6, 3, 2, 5, 2, 3, 3, 4, 3, 4, 4, 2, 2, 3, 6, 5, 4, 5, 4, 0, 60, 52, 3, 6, 0, 4, 4, 4, 3, 0, 8, 0, 204, 24, 34, 24, 34, 3, 21, 24, 36, 24, 6, 24, 48, 26, 42, 16, 0, 21, 22, 44, 0, 42, 20, 24, 58, 22, 48, 54, 24, 60, 21, 46, 114, 23, 120, 204, 20, 66, 21, 22, 42, 21, 48, 46, 30, 48, 48, 82, 22, 6, 22, 24, 12, 54, 8, 8, 36, 22, 44, 24, 22, 22, 21, 22, 182, 0, 54, 44, 42, 2, 20, 52, 22, 24, 12, 42, 22, 24, 7, 30, 24, 14, 22, 112, 0, 72, 20, 60, 64, 26, 24, 21, 48, 27, 22, 48, 24, 24, 54, 22, 24, 90, 24, 60, 26, 24, 30, 24, 6, 22, 22, 18, 4, 0, 7, 21, 24, 122, 72, 18, 90, 28, 46, 22, 24, 24, 8, 120, 66, 24, 45, 24, 20, 24, 22, 21, 5, 192, 46, 24, 0, 24, 58, 32, 21, 43, 28, 46, 24, 24, 36, 28, 138, 19, 30, 44, 132, 44, 30, 136, 0, 24, 48, 43, 25, 90, 108, 182, 78, 74, 0, 0, 0, 43, 0, 6, 6, 6, 5, 4, 5, 5, 6, 5, 3, 4, 3, 46, 6, 10, 3, 0, 10, 8, 3, 14, 7, 4, 2, 8, 5, 6, 4, 3, 5, 6, 3, 6, 0, 2, 2, 4, 4, 5, 6, 14, 2, 3, 5, 5, 4, 6, 6, 3, 4, 4, 6, 6, 3, 6, 2, 5, 6, 5, 4, 4, 0, 0, 74, 23, 0, 0, 6, 90, 8, 0, 8, 74, 46, 0, 190, 0, 0, 13, 74, 11, 53, 24, 7, 8, 0, 53, 21, 9, 36, 10, 27, 113, 0, 3, 190, 9, 24, 0, 10, 53, 24, 102, 42, 96, 48, 7, 43, 27, 54, 11, 6, 26, 54, 2, 34, 10, 38, 10, 7, 12, 8, 7, 54, 0, 0, 98, 52, 93, 8, 11, 10, 9, 22, 8, 5, 9, 8, 9, 10, 9, 23, 14, 99, 190, 7, 24, 4, 2, 3, 5, 6, 2, 5, 6, 6, 2, 6, 3, 5, 5, 3, 5, 5, 3, 2, 6, 5, 5, 5, 3, 6, 5, 3, 3, 5, 0, 3, 3, 2, 3, 2, 2, 2, 2, 2, 2, 2, 3, 2, 3, 1, 2, 6, 3, 3, 6, 3, 3, 3, 5, 5, 8, 3, 5, 5, 5, 2, 8, 46, 7, 7, 7, 7, 7, 4, 6, 6, 4, 6, 6, 6, 6, 3, 7, 8, 0, 4, 3, 6, 5, 6, 6, 3, 4, 3, 12, 6, 6, 4, 4, 3, 6, 7, 7, 7, 3, 0, 3, 0, 0, 0, 6, 2, 0, 3, 7, 6, 6, 5, 7, 3, 5, 5, 3, 4, 5, 4, 3, 5, 4, 2, 4, 3, 6, 2, 2, 3, 3, 3, 3, 3, 6, 5, 4, 3, 2, 2, 2, 5, 6, 3, 6, 6, 3, 6, 6, 3, 3, 4, 6, 4, 6, 6, 5, 6, 6, 3, 2, 3, 3, 3, 3, 4, 9, 0, 6, 2, 4, 5, 5, 2, 6, 6, 2, 3, 3, 3, 6, 4, 6, 5, 5, 4, 6, 5, 5, 3, 4, 4, 6, 6, 6, 3, 5, 6, 5, 3, 5, 4, 4, 4, 4, 3, 6, 4, 3, 4, 3, 3, 2, 4, 0, 4, 3, 5, 4, 0, 5, 5, 6, 4, 4, 6, 4, 4, 5, 6, 5, 2, 4, 5, 4, 6, 5, 6, 3, 4, 6, 6, 2, 5, 38, 9, 10, 93, 9, 0, 8, 6, 8, 12, 22, 114, 48, 7, 7, 0, 22, 8, 7, 102, 126, 7, 10, 10, 10, 7, 10, 9, 20, 190, 72, 11, 3, 9, 6, 4, 9, 58, 18, 9, 6, 20, 10, 24, 0, 18, 8, 7, 44, 48, 8, 7, 24, 52, 50, 18, 9, 0, 45, 8, 11, 48, 14, 18, 64, 13, 7, 30, 100, 8, 8, 11, 108, 108, 5, 6, 7, 10, 6, 8, 50, 10, 8, 9, 10, 24, 7, 23, 12, 11, 0, 5, 8, 6, 8, 8, 9, 9, 7, 10, 42, 6, 24, 8, 96, 0, 27, 2, 86, 9, 7, 9, 12, 10, 11, 10, 7, 78, 8, 8, 12, 8, 8, 6, 3, 5, 78, 12, 197, 0, 24, 118, 9, 24, 0, 0, 0, 10, 64, 0, 54, 0, 11, 8, 20, 75, 0, 8, 0, 30, 10, 0, 0, 0, 86, 4, 92, 22, 7, 46, 0, 48, 11, 3, 9, 6, 9, 6, 8, 12, 8, 9, 24, 10, 6, 7, 6, 8, 3, 9, 0, 6, 10, 0, 0, 0, 0, 0, 0, 0, 0, 0, 0, 0, 0, 0, 0, 0, 0, 0, 0, 0, 0, 0, 0, 0, 0, 0, 0, 0, 0, 0, 0, 0, 0, 0, 0, 0, 0, 0, 0, 0, 0, 0, 0, 0, 0, 0, 0, 0, 0, 0, 0, 0, 0, 0, 0, 0, 0, 0, 0, 0, 0, 0, 0, 0, 0, 0, 0, 0, 0, 0, 0, 0, 0, 0, 0, 0, 0, 0, 0, 0, 0, 0, 0, 0, 0, 0, 0, 0, 0, 0, 0, 0, 0, 0, 0, 0, 0, 0, 0, 0, 0, 0, 0, 0, 0, 0, 0, 0, 0, 0, 0, 0, 0, 0, 0, 0, 0, 0, 0, 0, 0, 0, 0, 0, 0, 0, 0, 0, 0, 0, 0, 0, 0, 0, 0, 0, 0, 0, 0, 0, 0, 0, 0, 0, 0, 0, 0, 0, 0, 0, 0, 0, 0, 0, 0, 0, 0, 0, 0, 0, 0, 0, 0, 0, 0, 0, 0, 0, 0, 0, 0, 0, 0, 0, 0, 0, 0, 0, 0, 0, 0, 0, 0, 0, 0, 0, 0, 0, 0, 0, 0, 0, 0, 0, 0, 0, 0, 0, 0, 0, 0, 0, 0, 0, 0, 0, 0, 0, 0, 0, 0, 0, 0, 0, 0, 0, 0, 0, 0, 0, 0, 0, 0, 0, 0, 0, 0, 0, 0, 0, 0, 0, 0, 0, 0, 0, 0, 0, 0, 0, 0, 0, 0, 0, 0, 0, 0, 0, 0, 0, 0]))"
   ]
  },
  {
   "cell_type": "code",
   "execution_count": null,
   "metadata": {},
   "outputs": [],
   "source": []
  }
 ],
 "metadata": {
  "accelerator": "GPU",
  "colab": {
   "collapsed_sections": [],
   "machine_shape": "hm",
   "name": "Copy of MLSpring22_HW2.ipynb",
   "provenance": []
  },
  "kernelspec": {
   "display_name": "Python 3 (ipykernel)",
   "language": "python",
   "name": "python3"
  },
  "language_info": {
   "codemirror_mode": {
    "name": "ipython",
    "version": 3
   },
   "file_extension": ".py",
   "mimetype": "text/x-python",
   "name": "python",
   "nbconvert_exporter": "python",
   "pygments_lexer": "ipython3",
   "version": "3.9.7"
  },
  "vscode": {
   "interpreter": {
    "hash": "3e06028060a7864164bfee2227bae8dfd39c60041c455d9e6b5a8dd3aec9b09f"
   }
  }
 },
 "nbformat": 4,
 "nbformat_minor": 1
}
